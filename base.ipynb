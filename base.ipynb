{
 "cells": [
  {
   "cell_type": "code",
   "execution_count": 1,
   "metadata": {},
   "outputs": [],
   "source": [
    "import pandas as pd"
   ]
  },
  {
   "cell_type": "code",
   "execution_count": 2,
   "metadata": {},
   "outputs": [
    {
     "data": {
      "text/html": [
       "<div>\n",
       "<style scoped>\n",
       "    .dataframe tbody tr th:only-of-type {\n",
       "        vertical-align: middle;\n",
       "    }\n",
       "\n",
       "    .dataframe tbody tr th {\n",
       "        vertical-align: top;\n",
       "    }\n",
       "\n",
       "    .dataframe thead th {\n",
       "        text-align: right;\n",
       "    }\n",
       "</style>\n",
       "<table border=\"1\" class=\"dataframe\">\n",
       "  <thead>\n",
       "    <tr style=\"text-align: right;\">\n",
       "      <th></th>\n",
       "      <th>Restaurant ID</th>\n",
       "      <th>Restaurant Name</th>\n",
       "      <th>Country Code</th>\n",
       "      <th>City</th>\n",
       "      <th>Address</th>\n",
       "      <th>Locality</th>\n",
       "      <th>Locality Verbose</th>\n",
       "      <th>Longitude</th>\n",
       "      <th>Latitude</th>\n",
       "      <th>Cuisines</th>\n",
       "      <th>...</th>\n",
       "      <th>Currency</th>\n",
       "      <th>Has Table booking</th>\n",
       "      <th>Has Online delivery</th>\n",
       "      <th>Is delivering now</th>\n",
       "      <th>Switch to order menu</th>\n",
       "      <th>Price range</th>\n",
       "      <th>Aggregate rating</th>\n",
       "      <th>Rating color</th>\n",
       "      <th>Rating text</th>\n",
       "      <th>Votes</th>\n",
       "    </tr>\n",
       "  </thead>\n",
       "  <tbody>\n",
       "    <tr>\n",
       "      <th>0</th>\n",
       "      <td>6317637</td>\n",
       "      <td>Le Petit Souffle</td>\n",
       "      <td>162</td>\n",
       "      <td>Makati City</td>\n",
       "      <td>Third Floor, Century City Mall, Kalayaan Avenu...</td>\n",
       "      <td>Century City Mall, Poblacion, Makati City</td>\n",
       "      <td>Century City Mall, Poblacion, Makati City, Mak...</td>\n",
       "      <td>121.027535</td>\n",
       "      <td>14.565443</td>\n",
       "      <td>French, Japanese, Desserts</td>\n",
       "      <td>...</td>\n",
       "      <td>Botswana Pula(P)</td>\n",
       "      <td>Yes</td>\n",
       "      <td>No</td>\n",
       "      <td>No</td>\n",
       "      <td>No</td>\n",
       "      <td>3</td>\n",
       "      <td>4.8</td>\n",
       "      <td>Dark Green</td>\n",
       "      <td>Excellent</td>\n",
       "      <td>314</td>\n",
       "    </tr>\n",
       "    <tr>\n",
       "      <th>1</th>\n",
       "      <td>6304287</td>\n",
       "      <td>Izakaya Kikufuji</td>\n",
       "      <td>162</td>\n",
       "      <td>Makati City</td>\n",
       "      <td>Little Tokyo, 2277 Chino Roces Avenue, Legaspi...</td>\n",
       "      <td>Little Tokyo, Legaspi Village, Makati City</td>\n",
       "      <td>Little Tokyo, Legaspi Village, Makati City, Ma...</td>\n",
       "      <td>121.014101</td>\n",
       "      <td>14.553708</td>\n",
       "      <td>Japanese</td>\n",
       "      <td>...</td>\n",
       "      <td>Botswana Pula(P)</td>\n",
       "      <td>Yes</td>\n",
       "      <td>No</td>\n",
       "      <td>No</td>\n",
       "      <td>No</td>\n",
       "      <td>3</td>\n",
       "      <td>4.5</td>\n",
       "      <td>Dark Green</td>\n",
       "      <td>Excellent</td>\n",
       "      <td>591</td>\n",
       "    </tr>\n",
       "    <tr>\n",
       "      <th>2</th>\n",
       "      <td>6300002</td>\n",
       "      <td>Heat - Edsa Shangri-La</td>\n",
       "      <td>162</td>\n",
       "      <td>Mandaluyong City</td>\n",
       "      <td>Edsa Shangri-La, 1 Garden Way, Ortigas, Mandal...</td>\n",
       "      <td>Edsa Shangri-La, Ortigas, Mandaluyong City</td>\n",
       "      <td>Edsa Shangri-La, Ortigas, Mandaluyong City, Ma...</td>\n",
       "      <td>121.056831</td>\n",
       "      <td>14.581404</td>\n",
       "      <td>Seafood, Asian, Filipino, Indian</td>\n",
       "      <td>...</td>\n",
       "      <td>Botswana Pula(P)</td>\n",
       "      <td>Yes</td>\n",
       "      <td>No</td>\n",
       "      <td>No</td>\n",
       "      <td>No</td>\n",
       "      <td>4</td>\n",
       "      <td>4.4</td>\n",
       "      <td>Green</td>\n",
       "      <td>Very Good</td>\n",
       "      <td>270</td>\n",
       "    </tr>\n",
       "  </tbody>\n",
       "</table>\n",
       "<p>3 rows × 21 columns</p>\n",
       "</div>"
      ],
      "text/plain": [
       "   Restaurant ID         Restaurant Name  Country Code              City  \\\n",
       "0        6317637        Le Petit Souffle           162       Makati City   \n",
       "1        6304287        Izakaya Kikufuji           162       Makati City   \n",
       "2        6300002  Heat - Edsa Shangri-La           162  Mandaluyong City   \n",
       "\n",
       "                                             Address  \\\n",
       "0  Third Floor, Century City Mall, Kalayaan Avenu...   \n",
       "1  Little Tokyo, 2277 Chino Roces Avenue, Legaspi...   \n",
       "2  Edsa Shangri-La, 1 Garden Way, Ortigas, Mandal...   \n",
       "\n",
       "                                     Locality  \\\n",
       "0   Century City Mall, Poblacion, Makati City   \n",
       "1  Little Tokyo, Legaspi Village, Makati City   \n",
       "2  Edsa Shangri-La, Ortigas, Mandaluyong City   \n",
       "\n",
       "                                    Locality Verbose   Longitude   Latitude  \\\n",
       "0  Century City Mall, Poblacion, Makati City, Mak...  121.027535  14.565443   \n",
       "1  Little Tokyo, Legaspi Village, Makati City, Ma...  121.014101  14.553708   \n",
       "2  Edsa Shangri-La, Ortigas, Mandaluyong City, Ma...  121.056831  14.581404   \n",
       "\n",
       "                           Cuisines  ...          Currency Has Table booking  \\\n",
       "0        French, Japanese, Desserts  ...  Botswana Pula(P)               Yes   \n",
       "1                          Japanese  ...  Botswana Pula(P)               Yes   \n",
       "2  Seafood, Asian, Filipino, Indian  ...  Botswana Pula(P)               Yes   \n",
       "\n",
       "  Has Online delivery Is delivering now Switch to order menu Price range  \\\n",
       "0                  No                No                   No           3   \n",
       "1                  No                No                   No           3   \n",
       "2                  No                No                   No           4   \n",
       "\n",
       "   Aggregate rating  Rating color Rating text Votes  \n",
       "0               4.8    Dark Green   Excellent   314  \n",
       "1               4.5    Dark Green   Excellent   591  \n",
       "2               4.4         Green   Very Good   270  \n",
       "\n",
       "[3 rows x 21 columns]"
      ]
     },
     "execution_count": 2,
     "metadata": {},
     "output_type": "execute_result"
    }
   ],
   "source": [
    "dataset = pd.read_csv(\"Dataset .csv\")\n",
    "data = pd.DataFrame(dataset)\n",
    "data = data.dropna()\n",
    "data.head(3)"
   ]
  },
  {
   "cell_type": "code",
   "execution_count": 3,
   "metadata": {},
   "outputs": [
    {
     "data": {
      "text/plain": [
       "Index(['Restaurant ID', 'Restaurant Name', 'Country Code', 'City', 'Address',\n",
       "       'Locality', 'Locality Verbose', 'Longitude', 'Latitude', 'Cuisines',\n",
       "       'Average Cost for two', 'Currency', 'Has Table booking',\n",
       "       'Has Online delivery', 'Is delivering now', 'Switch to order menu',\n",
       "       'Price range', 'Aggregate rating', 'Rating color', 'Rating text',\n",
       "       'Votes'],\n",
       "      dtype='object')"
      ]
     },
     "execution_count": 3,
     "metadata": {},
     "output_type": "execute_result"
    }
   ],
   "source": [
    "data.columns"
   ]
  },
  {
   "cell_type": "code",
   "execution_count": 4,
   "metadata": {},
   "outputs": [
    {
     "data": {
      "text/plain": [
       "0              [French,  Japanese,  Desserts]\n",
       "1                                  [Japanese]\n",
       "2       [Seafood,  Asian,  Filipino,  Indian]\n",
       "3                          [Japanese,  Sushi]\n",
       "4                         [Japanese,  Korean]\n",
       "                        ...                  \n",
       "9546                                [Turkish]\n",
       "9547      [World Cuisine,  Patisserie,  Cafe]\n",
       "9548                [Italian,  World Cuisine]\n",
       "9549                        [Restaurant Cafe]\n",
       "9550                                   [Cafe]\n",
       "Name: Cuisines, Length: 9542, dtype: object"
      ]
     },
     "execution_count": 4,
     "metadata": {},
     "output_type": "execute_result"
    }
   ],
   "source": [
    "data['Cuisines'].str.split(',')"
   ]
  },
  {
   "cell_type": "markdown",
   "metadata": {},
   "source": [
    "LEVEL 1 \n",
    "Task1: Top Cuisines"
   ]
  },
  {
   "cell_type": "markdown",
   "metadata": {},
   "source": [
    "Determine the top three most\n",
    "common cuisines in the dataset."
   ]
  },
  {
   "cell_type": "code",
   "execution_count": 5,
   "metadata": {},
   "outputs": [
    {
     "name": "stdout",
     "output_type": "stream",
     "text": [
      "{'North Indian': 936, 'North Indian, Chinese': 511, 'Chinese': 354}\n"
     ]
    }
   ],
   "source": [
    "top3cuisines = data['Cuisines'].value_counts().head(3).to_dict()\n",
    "print(top3cuisines)                                                                  "
   ]
  },
  {
   "cell_type": "markdown",
   "metadata": {},
   "source": [
    "Calculate the percentage of\n",
    "restaurants that serve each of the top\n",
    "cuisines."
   ]
  },
  {
   "cell_type": "code",
   "execution_count": 6,
   "metadata": {},
   "outputs": [],
   "source": [
    "# for cuisine in top3cuisines:\n",
    "#     print(cuisine)"
   ]
  },
  {
   "cell_type": "code",
   "execution_count": 7,
   "metadata": {},
   "outputs": [],
   "source": [
    "# count = data['Cuisines'].apply(lambda x: cuisine in x)\n",
    "# print (data[count])"
   ]
  },
  {
   "cell_type": "code",
   "execution_count": 8,
   "metadata": {},
   "outputs": [],
   "source": [
    "# count.sum()"
   ]
  },
  {
   "cell_type": "code",
   "execution_count": 9,
   "metadata": {},
   "outputs": [
    {
     "data": {
      "text/plain": [
       "{'North Indian': 3960, 'North Indian, Chinese': 1060, 'Chinese': 2733}"
      ]
     },
     "execution_count": 9,
     "metadata": {},
     "output_type": "execute_result"
    }
   ],
   "source": [
    "cuisine_rest_count ={cuisine: int(data['Cuisines'].apply(lambda x: cuisine in x).sum()) for cuisine in top3cuisines}  #Stores the cuisine & count in a dictionary\n",
    "cuisine_rest_count"
   ]
  },
  {
   "cell_type": "code",
   "execution_count": 10,
   "metadata": {},
   "outputs": [
    {
     "name": "stdout",
     "output_type": "stream",
     "text": [
      "dict_keys(['North Indian', 'North Indian, Chinese', 'Chinese'])\n",
      "dict_values([3960, 1060, 2733])\n"
     ]
    }
   ],
   "source": [
    "print(cuisine_rest_count.keys())\n",
    "print(cuisine_rest_count.values())"
   ]
  },
  {
   "cell_type": "code",
   "execution_count": 11,
   "metadata": {},
   "outputs": [
    {
     "data": {
      "text/plain": [
       "9542"
      ]
     },
     "execution_count": 11,
     "metadata": {},
     "output_type": "execute_result"
    }
   ],
   "source": [
    "total_rest = len(data)\n",
    "total_rest"
   ]
  },
  {
   "cell_type": "code",
   "execution_count": 12,
   "metadata": {},
   "outputs": [
    {
     "data": {
      "text/plain": [
       "[('North Indian', 41.50073359882624),\n",
       " ('North Indian, Chinese', 11.108782225948438),\n",
       " ('Chinese', 28.641794173129327)]"
      ]
     },
     "execution_count": 12,
     "metadata": {},
     "output_type": "execute_result"
    }
   ],
   "source": [
    "percentage = {}\n",
    "for cuisine, count in cuisine_rest_count.items():\n",
    "    percentage[cuisine] = (float(count) / total_rest)* 100\n",
    "result = (list(percentage.items()))\n",
    "result"
   ]
  },
  {
   "cell_type": "code",
   "execution_count": 13,
   "metadata": {},
   "outputs": [
    {
     "data": {
      "text/html": [
       "<div>\n",
       "<style scoped>\n",
       "    .dataframe tbody tr th:only-of-type {\n",
       "        vertical-align: middle;\n",
       "    }\n",
       "\n",
       "    .dataframe tbody tr th {\n",
       "        vertical-align: top;\n",
       "    }\n",
       "\n",
       "    .dataframe thead th {\n",
       "        text-align: right;\n",
       "    }\n",
       "</style>\n",
       "<table border=\"1\" class=\"dataframe\">\n",
       "  <thead>\n",
       "    <tr style=\"text-align: right;\">\n",
       "      <th></th>\n",
       "      <th>cuisines</th>\n",
       "      <th>percentage</th>\n",
       "    </tr>\n",
       "  </thead>\n",
       "  <tbody>\n",
       "    <tr>\n",
       "      <th>0</th>\n",
       "      <td>North Indian</td>\n",
       "      <td>41.50</td>\n",
       "    </tr>\n",
       "    <tr>\n",
       "      <th>1</th>\n",
       "      <td>North Indian, Chinese</td>\n",
       "      <td>11.11</td>\n",
       "    </tr>\n",
       "    <tr>\n",
       "      <th>2</th>\n",
       "      <td>Chinese</td>\n",
       "      <td>28.64</td>\n",
       "    </tr>\n",
       "  </tbody>\n",
       "</table>\n",
       "</div>"
      ],
      "text/plain": [
       "                cuisines  percentage\n",
       "0           North Indian       41.50\n",
       "1  North Indian, Chinese       11.11\n",
       "2                Chinese       28.64"
      ]
     },
     "execution_count": 13,
     "metadata": {},
     "output_type": "execute_result"
    }
   ],
   "source": [
    "percent_data = pd.DataFrame((result), columns=['cuisines', 'percentage']).round(2)\n",
    "percent_data "
   ]
  },
  {
   "cell_type": "markdown",
   "metadata": {},
   "source": [
    "TASK 2: City Analysis"
   ]
  },
  {
   "cell_type": "markdown",
   "metadata": {},
   "source": [
    "Identify the city with the highest number of restaurants in the dataset."
   ]
  },
  {
   "cell_type": "code",
   "execution_count": 14,
   "metadata": {},
   "outputs": [
    {
     "name": "stdout",
     "output_type": "stream",
     "text": [
      "[('New Delhi', 5473), ('Gurgaon', 1118), ('Noida', 1080), ('Faridabad', 251), ('Ghaziabad', 25), ('Bhubaneshwar', 21), ('Ahmedabad', 21), ('Lucknow', 21), ('Guwahati', 21), ('Amritsar', 21), ('S��o Paulo', 20), ('Bras�_lia', 20), ('Doha', 20), ('Cape Town', 20), ('Wellington City', 20), ('Auckland', 20), ('Mumbai', 20), ('Mangalore', 20), ('Ludhiana', 20), ('Nashik', 20), ('Jaipur', 20), ('Rio de Janeiro', 20), ('Augusta', 20), ('Athens', 20), ('Dalton', 20), ('Davenport', 20), ('Boise', 20), ('Cedar Rapids/Iowa City', 20), ('Singapore', 20), ('Waterloo', 20), ('Birmingham', 20), ('Edinburgh', 20), ('London', 20), ('Manchester', 20), ('Des Moines', 20), ('Columbus', 20), ('Dubuque', 20), ('Sioux City', 20), ('Tampa Bay', 20), ('Valdosta', 20), ('Dubai', 20), ('Abu Dhabi', 20), ('Pensacola', 20), ('Pocatello', 20), ('Sharjah', 20), ('Agra', 20), ('Patna', 20), ('Mysore', 20), ('Bangalore', 20), ('Bhopal', 20), ('Vizag', 20), ('Varanasi', 20), ('Surat', 20), ('Kolkata', 20), ('Kanpur', 20), ('Kochi', 20), ('Indore', 20), ('Coimbatore', 20), ('Goa', 20), ('Nagpur', 20), ('Chennai', 20), ('Aurangabad', 20), ('Allahabad', 20), ('Dehradun', 20), ('Puducherry', 20), ('Ankara', 20), ('Colombo', 20), ('Pretoria', 20), ('Pune', 20), ('Vadodara', 20), ('Ranchi', 20), ('Savannah', 19), ('Gainesville', 19), ('Macon', 19), ('Orlando', 19), ('Rest of Hawaii', 19), ('Hyderabad', 18), ('Chandigarh', 18), ('Albany', 17), ('Jakarta', 16), ('��stanbul', 14), ('Sandton', 11), ('Johannesburg', 6), ('Mandaluyong City', 4), ('Taguig City', 4), ('Pasay City', 3), ('Pasig City', 3), ('Inner City', 2), ('Makati City', 2), ('Secunderabad', 2), ('San Juan City', 2), ('Santa Rosa', 2), ('Hepburn Springs', 2), ('Tangerang', 2), ('Bogor', 2), ('Tagaytay City', 1), ('Quezon City', 1), ('Victor Harbor', 1), ('Trentham East', 1), ('Tanunda', 1), ('Winchester Bay', 1), ('Yorkton', 1), ('Vineland Station', 1), ('Weirton', 1), ('Lakeview', 1), ('Lincoln', 1), ('Lorn', 1), ('Macedon', 1), ('Beechworth', 1), ('Armidale', 1), ('Balingup', 1), ('Consort', 1), ('Cochrane', 1), ('Clatskanie', 1), ('Chatham-Kent', 1), ('Vernonia', 1), ('Palm Cove', 1), ('Ojo Caliente', 1), ('Montville', 1), ('Paynesville', 1), ('Phillip Island', 1), ('Penola', 1), ('Potrero', 1), ('Princeton', 1), ('Mc Millan', 1), ('Middleton Beach', 1), ('Mayfield', 1), ('Monroe', 1), ('Fernley', 1), ('East Ballina', 1), ('Forrest', 1), ('Dicky Beach', 1), ('Flaxton', 1), ('Huskisson', 1), ('Lakes Entrance', 1), ('Inverloch', 1), ('Mohali', 1), ('Panchkula', 1), ('Bandung', 1), ('Randburg', 1)]\n"
     ]
    }
   ],
   "source": [
    "top_city = data['City'].value_counts().to_dict()\n",
    "print(list(top_city.items()))"
   ]
  },
  {
   "cell_type": "code",
   "execution_count": 15,
   "metadata": {},
   "outputs": [
    {
     "name": "stdout",
     "output_type": "stream",
     "text": [
      "The city \"New Delhi\" have highest number of restaurants values is : 5473\n"
     ]
    }
   ],
   "source": [
    "top_city = data['City'].value_counts()                                      # print (f\"{top_city.index[0]}: {int(top_city.iloc[0])}\")\n",
    "\n",
    "# for key, value in top_city.items():\n",
    "#     print (f\"The city \\\"{key}\\\" have highest number of restaurants values is : {value}\")\n",
    "\n",
    "# print(top_city.idxmax())\n",
    "# print(top_city.max())\n",
    "print (f\"The city \\\"{top_city.idxmax()}\\\" have highest number of restaurants values is : {top_city.max()}\")"
   ]
  },
  {
   "cell_type": "code",
   "execution_count": 16,
   "metadata": {},
   "outputs": [
    {
     "data": {
      "text/plain": [
       "Restaurant ID  Restaurant Name                Country Code  City       Address                                                          Locality                Locality Verbose                   Longitude  Latitude   Cuisines                             Average Cost for two  Currency            Has Table booking  Has Online delivery  Is delivering now  Switch to order menu  Price range  Aggregate rating  Rating color  Rating text  Votes\n",
       "18500618       Veg. Darbar                    1             New Delhi  Near Metro Pillar 682, Uttam Nagar West, Uttam Nagar, New Delhi  Uttam Nagar             Uttam Nagar, New Delhi             77.057052  28.621884  North Indian, Chinese                400                   Indian Rupees(Rs.)  No                 No                   No                 No                    1            0.0               White         Not rated    1        1\n",
       "18492083       The Artful Baker               1             New Delhi  D Block Market. Near HDFC, Vasant Vihar, New Delhi               Vasant Vihar            Vasant Vihar, New Delhi            0.000000   0.000000   Bakery, Fast Food                    600                   Indian Rupees(Rs.)  No                 No                   No                 No                    2            0.0               White         Not rated    0        1\n",
       "18492065       Alam Biryani Center            1             New Delhi  Street 18, Zakir Nagar, New Delhi                                Zakir Nagar             Zakir Nagar, New Delhi             77.279663  28.567715  Biryani                              200                   Indian Rupees(Rs.)  No                 No                   No                 No                    1            0.0               White         Not rated    0        1\n",
       "18492061       Al Hayat Bakers                1             New Delhi  Shop 14, Main Road, Zakir Nagar, New Delhi                       Zakir Nagar             Zakir Nagar, New Delhi             77.278845  28.567200  Bakery                               200                   Indian Rupees(Rs.)  No                 No                   No                 No                    1            0.0               White         Not rated    0        1\n",
       "18492057       Shree Raja Ram                 1             New Delhi  WZ 56, Meenakshi Garden, Subhash Nagar, New Delhi                Subhash Nagar           Subhash Nagar, New Delhi           77.105552  28.639813  Fast Food                            50                    Indian Rupees(Rs.)  No                 No                   No                 No                    1            0.0               White         Not rated    0        1\n",
       "                                                                                                                                                                                                                                                                                                                                                                                                                                                           ..\n",
       "66             Embassy                        1             New Delhi  11-D, Connaught Place, New Delhi                                 Connaught Place         Connaught Place, New Delhi         77.221003  28.633679  North Indian, Continental, European  2000                  Indian Rupees(Rs.)  Yes                Yes                  No                 No                    4            3.5               Yellow        Good         706      1\n",
       "65             Drums of Heaven                1             New Delhi  S-14, Green Park Extension, Green Park, New Delhi                Green Park              Green Park, New Delhi              77.205934  28.558018  Chinese, Seafood, Thai               1800                  Indian Rupees(Rs.)  Yes                Yes                  No                 No                    3            3.5               Yellow        Good         234      1\n",
       "64             Diva - The Italian Restaurant  1             New Delhi  M-8A, M Block Market, Greater Kailash (GK) 2, New Delhi          Greater Kailash (GK) 2  Greater Kailash (GK) 2, New Delhi  77.243186  28.534202  Italian                              2500                  Indian Rupees(Rs.)  Yes                Yes                  No                 No                    4            3.8               Yellow        Good         372      1\n",
       "60             Colonel's Kababz               1             New Delhi  29, Defence Colony Market, Defence Colony, New Delhi             Defence Colony          Defence Colony, New Delhi          77.230591  28.574036  North Indian, Mughlai                900                   Indian Rupees(Rs.)  Yes                No                   No                 No                    2            3.2               Orange        Average      600      1\n",
       "55             Berco's                        1             New Delhi  G-2/43, Middle Circle, Connaught Place, New Delhi                Connaught Place         Connaught Place, New Delhi         77.217298  28.632452  Chinese, Thai                        1100                  Indian Rupees(Rs.)  Yes                Yes                  No                 No                    3            3.9               Yellow        Good         2639     1\n",
       "Name: count, Length: 5473, dtype: int64"
      ]
     },
     "execution_count": 16,
     "metadata": {},
     "output_type": "execute_result"
    }
   ],
   "source": [
    "data[data['City'] == 'New Delhi'].value_counts()"
   ]
  },
  {
   "cell_type": "markdown",
   "metadata": {},
   "source": [
    "Calculate the average rating for\n",
    "restaurants in each city."
   ]
  },
  {
   "cell_type": "code",
   "execution_count": 17,
   "metadata": {},
   "outputs": [
    {
     "data": {
      "text/plain": [
       "City\n",
       "Abu Dhabi          4.30\n",
       "Agra               3.96\n",
       "Ahmedabad          4.16\n",
       "Albany             3.55\n",
       "Allahabad          3.40\n",
       "                   ... \n",
       "Weirton            3.90\n",
       "Wellington City    4.25\n",
       "Winchester Bay     3.20\n",
       "Yorkton            3.30\n",
       "��stanbul          4.29\n",
       "Name: Aggregate rating, Length: 140, dtype: float64"
      ]
     },
     "execution_count": 17,
     "metadata": {},
     "output_type": "execute_result"
    }
   ],
   "source": [
    "avg_city = data.groupby('City')['Aggregate rating'].mean().round(2)              # data.groupby('column_name').aggregation_function()\n",
    "avg_city"
   ]
  },
  {
   "cell_type": "markdown",
   "metadata": {},
   "source": [
    "Determine the city with the highest\n",
    "average rating."
   ]
  },
  {
   "cell_type": "code",
   "execution_count": 18,
   "metadata": {},
   "outputs": [
    {
     "name": "stdout",
     "output_type": "stream",
     "text": [
      "Inner City : 4.9\n"
     ]
    }
   ],
   "source": [
    "#type(max(avg_city.items(), key=lambda x: x[1]))                         x[1] because in this type is tuple and the only two items are present\n",
    "high_avg_rate = (max(avg_city.items(), key=lambda x: x[1]))\n",
    "print(f\"{high_avg_rate[0]} : {high_avg_rate[1]}\")"
   ]
  },
  {
   "cell_type": "code",
   "execution_count": 19,
   "metadata": {},
   "outputs": [
    {
     "data": {
      "text/html": [
       "<div>\n",
       "<style scoped>\n",
       "    .dataframe tbody tr th:only-of-type {\n",
       "        vertical-align: middle;\n",
       "    }\n",
       "\n",
       "    .dataframe tbody tr th {\n",
       "        vertical-align: top;\n",
       "    }\n",
       "\n",
       "    .dataframe thead th {\n",
       "        text-align: right;\n",
       "    }\n",
       "</style>\n",
       "<table border=\"1\" class=\"dataframe\">\n",
       "  <thead>\n",
       "    <tr style=\"text-align: right;\">\n",
       "      <th></th>\n",
       "      <th>Restaurant ID</th>\n",
       "      <th>Restaurant Name</th>\n",
       "      <th>Country Code</th>\n",
       "      <th>City</th>\n",
       "      <th>Address</th>\n",
       "      <th>Locality</th>\n",
       "      <th>Locality Verbose</th>\n",
       "      <th>Longitude</th>\n",
       "      <th>Latitude</th>\n",
       "      <th>Cuisines</th>\n",
       "      <th>...</th>\n",
       "      <th>Currency</th>\n",
       "      <th>Has Table booking</th>\n",
       "      <th>Has Online delivery</th>\n",
       "      <th>Is delivering now</th>\n",
       "      <th>Switch to order menu</th>\n",
       "      <th>Price range</th>\n",
       "      <th>Aggregate rating</th>\n",
       "      <th>Rating color</th>\n",
       "      <th>Rating text</th>\n",
       "      <th>Votes</th>\n",
       "    </tr>\n",
       "  </thead>\n",
       "  <tbody>\n",
       "    <tr>\n",
       "      <th>9457</th>\n",
       "      <td>6501534</td>\n",
       "      <td>Cube - Tasting Kitchen</td>\n",
       "      <td>189</td>\n",
       "      <td>Inner City</td>\n",
       "      <td>24 Albrecht Road, Maboneng Precinct, City and ...</td>\n",
       "      <td>City and Suburban</td>\n",
       "      <td>City and Suburban, Inner City</td>\n",
       "      <td>28.060192</td>\n",
       "      <td>-26.203278</td>\n",
       "      <td>European, Contemporary</td>\n",
       "      <td>...</td>\n",
       "      <td>Rand(R)</td>\n",
       "      <td>No</td>\n",
       "      <td>No</td>\n",
       "      <td>No</td>\n",
       "      <td>No</td>\n",
       "      <td>4</td>\n",
       "      <td>4.9</td>\n",
       "      <td>Dark Green</td>\n",
       "      <td>Excellent</td>\n",
       "      <td>441</td>\n",
       "    </tr>\n",
       "    <tr>\n",
       "      <th>9458</th>\n",
       "      <td>18339373</td>\n",
       "      <td>Urbanologi</td>\n",
       "      <td>189</td>\n",
       "      <td>Inner City</td>\n",
       "      <td>1 Fox Street, Marshalltown, Inner City, Johann...</td>\n",
       "      <td>Marshalltown</td>\n",
       "      <td>Marshalltown, Inner City</td>\n",
       "      <td>28.031863</td>\n",
       "      <td>-26.207091</td>\n",
       "      <td>Tapas</td>\n",
       "      <td>...</td>\n",
       "      <td>Rand(R)</td>\n",
       "      <td>No</td>\n",
       "      <td>No</td>\n",
       "      <td>No</td>\n",
       "      <td>No</td>\n",
       "      <td>4</td>\n",
       "      <td>4.9</td>\n",
       "      <td>Dark Green</td>\n",
       "      <td>Excellent</td>\n",
       "      <td>194</td>\n",
       "    </tr>\n",
       "  </tbody>\n",
       "</table>\n",
       "<p>2 rows × 21 columns</p>\n",
       "</div>"
      ],
      "text/plain": [
       "      Restaurant ID         Restaurant Name  Country Code        City  \\\n",
       "9457        6501534  Cube - Tasting Kitchen           189  Inner City   \n",
       "9458       18339373              Urbanologi           189  Inner City   \n",
       "\n",
       "                                                Address           Locality  \\\n",
       "9457  24 Albrecht Road, Maboneng Precinct, City and ...  City and Suburban   \n",
       "9458  1 Fox Street, Marshalltown, Inner City, Johann...       Marshalltown   \n",
       "\n",
       "                   Locality Verbose  Longitude   Latitude  \\\n",
       "9457  City and Suburban, Inner City  28.060192 -26.203278   \n",
       "9458       Marshalltown, Inner City  28.031863 -26.207091   \n",
       "\n",
       "                    Cuisines  ...  Currency Has Table booking  \\\n",
       "9457  European, Contemporary  ...   Rand(R)                No   \n",
       "9458                   Tapas  ...   Rand(R)                No   \n",
       "\n",
       "     Has Online delivery Is delivering now Switch to order menu Price range  \\\n",
       "9457                  No                No                   No           4   \n",
       "9458                  No                No                   No           4   \n",
       "\n",
       "      Aggregate rating  Rating color Rating text Votes  \n",
       "9457               4.9    Dark Green   Excellent   441  \n",
       "9458               4.9    Dark Green   Excellent   194  \n",
       "\n",
       "[2 rows x 21 columns]"
      ]
     },
     "execution_count": 19,
     "metadata": {},
     "output_type": "execute_result"
    }
   ],
   "source": [
    "data[data['City'] == 'Inner City' ]"
   ]
  },
  {
   "cell_type": "markdown",
   "metadata": {},
   "source": [
    "Task 3: Price Range Distribution"
   ]
  },
  {
   "cell_type": "markdown",
   "metadata": {},
   "source": [
    "Create a histogram or bar chart to\n",
    "visualize the distribution of price ranges\n",
    "among the restaurants."
   ]
  },
  {
   "cell_type": "code",
   "execution_count": 20,
   "metadata": {},
   "outputs": [],
   "source": [
    "import matplotlib.pyplot as plt\n",
    "import seaborn as sns"
   ]
  },
  {
   "cell_type": "code",
   "execution_count": 22,
   "metadata": {},
   "outputs": [
    {
     "data": {
      "image/png": "[encoded data removed]",
      "text/plain": [
       "<Figure size 800x400 with 1 Axes>"
      ]
     },
     "metadata": {},
     "output_type": "display_data"
    }
   ],
   "source": [
    "plt.figure(figsize=(8, 4))\n",
    "sns.histplot(data['Price range'],kde=True, bins=8, color=\"orange\")          #Kernel Density Estimate (KDE) kde=True,\n",
    "plt.xlabel(\"Price range\")\n",
    "plt.ylabel(\"Frequency\")\n",
    "plt.title(\"Distribution of price ranges\") \n",
    "plt.show()"
   ]
  },
  {
   "cell_type": "markdown",
   "metadata": {},
   "source": [
    "Calculate the percentage of restaurants\n",
    "in each price range category."
   ]
  },
  {
   "cell_type": "code",
   "execution_count": 23,
   "metadata": {},
   "outputs": [
    {
     "name": "stdout",
     "output_type": "stream",
     "text": [
      "Price range\n",
      "1    4438\n",
      "2    3113\n",
      "3    1405\n",
      "4     586\n",
      "Name: count, dtype: int64\n",
      "9542\n"
     ]
    }
   ],
   "source": [
    "price_count = data['Price range'].value_counts()\n",
    "print(price_count)\n",
    "print(total_rest)"
   ]
  },
  {
   "cell_type": "code",
   "execution_count": 24,
   "metadata": {},
   "outputs": [
    {
     "data": {
      "text/plain": [
       "[(1, 46.51), (2, 32.62), (3, 14.72), (4, 6.14)]"
      ]
     },
     "execution_count": 24,
     "metadata": {},
     "output_type": "execute_result"
    }
   ],
   "source": [
    "price_percent = ((price_count / total_rest) * 100).round(2)\n",
    "price_percent = list(price_percent.items())\n",
    "price_percent"
   ]
  },
  {
   "cell_type": "code",
   "execution_count": 25,
   "metadata": {},
   "outputs": [
    {
     "data": {
      "text/html": [
       "<div>\n",
       "<style scoped>\n",
       "    .dataframe tbody tr th:only-of-type {\n",
       "        vertical-align: middle;\n",
       "    }\n",
       "\n",
       "    .dataframe tbody tr th {\n",
       "        vertical-align: top;\n",
       "    }\n",
       "\n",
       "    .dataframe thead th {\n",
       "        text-align: right;\n",
       "    }\n",
       "</style>\n",
       "<table border=\"1\" class=\"dataframe\">\n",
       "  <thead>\n",
       "    <tr style=\"text-align: right;\">\n",
       "      <th></th>\n",
       "      <th>price range</th>\n",
       "      <th>percentage</th>\n",
       "    </tr>\n",
       "  </thead>\n",
       "  <tbody>\n",
       "    <tr>\n",
       "      <th>0</th>\n",
       "      <td>1</td>\n",
       "      <td>46.51</td>\n",
       "    </tr>\n",
       "    <tr>\n",
       "      <th>1</th>\n",
       "      <td>2</td>\n",
       "      <td>32.62</td>\n",
       "    </tr>\n",
       "    <tr>\n",
       "      <th>2</th>\n",
       "      <td>3</td>\n",
       "      <td>14.72</td>\n",
       "    </tr>\n",
       "    <tr>\n",
       "      <th>3</th>\n",
       "      <td>4</td>\n",
       "      <td>6.14</td>\n",
       "    </tr>\n",
       "  </tbody>\n",
       "</table>\n",
       "</div>"
      ],
      "text/plain": [
       "   price range  percentage\n",
       "0            1       46.51\n",
       "1            2       32.62\n",
       "2            3       14.72\n",
       "3            4        6.14"
      ]
     },
     "execution_count": 25,
     "metadata": {},
     "output_type": "execute_result"
    }
   ],
   "source": [
    "percent_rest_price = pd.DataFrame((price_percent), columns=['price range', 'percentage'])\n",
    "percent_rest_price"
   ]
  },
  {
   "cell_type": "markdown",
   "metadata": {},
   "source": [
    "Task 4: Online Delivery"
   ]
  },
  {
   "cell_type": "markdown",
   "metadata": {},
   "source": [
    "Determine the percentage of restaurants\n",
    "that offer online delivery."
   ]
  },
  {
   "cell_type": "code",
   "execution_count": 26,
   "metadata": {},
   "outputs": [
    {
     "data": {
      "text/plain": [
       "Has Online delivery\n",
       "No     7091\n",
       "Yes    2451\n",
       "Name: count, dtype: int64"
      ]
     },
     "execution_count": 26,
     "metadata": {},
     "output_type": "execute_result"
    }
   ],
   "source": [
    "online_count = data['Has Online delivery'].value_counts()\n",
    "online_count"
   ]
  },
  {
   "cell_type": "code",
   "execution_count": 27,
   "metadata": {},
   "outputs": [
    {
     "data": {
      "text/html": [
       "<div>\n",
       "<style scoped>\n",
       "    .dataframe tbody tr th:only-of-type {\n",
       "        vertical-align: middle;\n",
       "    }\n",
       "\n",
       "    .dataframe tbody tr th {\n",
       "        vertical-align: top;\n",
       "    }\n",
       "\n",
       "    .dataframe thead th {\n",
       "        text-align: right;\n",
       "    }\n",
       "</style>\n",
       "<table border=\"1\" class=\"dataframe\">\n",
       "  <thead>\n",
       "    <tr style=\"text-align: right;\">\n",
       "      <th></th>\n",
       "      <th>Restaurant ID</th>\n",
       "      <th>Restaurant Name</th>\n",
       "      <th>Country Code</th>\n",
       "      <th>City</th>\n",
       "      <th>Address</th>\n",
       "      <th>Locality</th>\n",
       "      <th>Locality Verbose</th>\n",
       "      <th>Longitude</th>\n",
       "      <th>Latitude</th>\n",
       "      <th>Cuisines</th>\n",
       "      <th>...</th>\n",
       "      <th>Currency</th>\n",
       "      <th>Has Table booking</th>\n",
       "      <th>Has Online delivery</th>\n",
       "      <th>Is delivering now</th>\n",
       "      <th>Switch to order menu</th>\n",
       "      <th>Price range</th>\n",
       "      <th>Aggregate rating</th>\n",
       "      <th>Rating color</th>\n",
       "      <th>Rating text</th>\n",
       "      <th>Votes</th>\n",
       "    </tr>\n",
       "  </thead>\n",
       "  <tbody>\n",
       "    <tr>\n",
       "      <th>565</th>\n",
       "      <td>5704255</td>\n",
       "      <td>Famous Dave's Barbecue</td>\n",
       "      <td>214</td>\n",
       "      <td>Abu Dhabi</td>\n",
       "      <td>Near The One, Level 3, Abu Dhabi Mall, Tourist...</td>\n",
       "      <td>Abu Dhabi Mall, Tourist Club Area  (Al Zahiyah)</td>\n",
       "      <td>Abu Dhabi Mall, Tourist Club Area  (Al Zahiyah...</td>\n",
       "      <td>54.382946</td>\n",
       "      <td>24.495693</td>\n",
       "      <td>American</td>\n",
       "      <td>...</td>\n",
       "      <td>Emirati Diram(AED)</td>\n",
       "      <td>No</td>\n",
       "      <td>Yes</td>\n",
       "      <td>No</td>\n",
       "      <td>No</td>\n",
       "      <td>4</td>\n",
       "      <td>4.6</td>\n",
       "      <td>Dark Green</td>\n",
       "      <td>Excellent</td>\n",
       "      <td>376</td>\n",
       "    </tr>\n",
       "    <tr>\n",
       "      <th>566</th>\n",
       "      <td>5701978</td>\n",
       "      <td>Pizza Di Rocco</td>\n",
       "      <td>214</td>\n",
       "      <td>Abu Dhabi</td>\n",
       "      <td>Near Corner of Salam and Al Falah Street (9th ...</td>\n",
       "      <td>Al Dhafrah</td>\n",
       "      <td>Al Dhafrah, Abu Dhabi</td>\n",
       "      <td>54.381931</td>\n",
       "      <td>24.485579</td>\n",
       "      <td>Italian, Pizza</td>\n",
       "      <td>...</td>\n",
       "      <td>Emirati Diram(AED)</td>\n",
       "      <td>Yes</td>\n",
       "      <td>Yes</td>\n",
       "      <td>No</td>\n",
       "      <td>No</td>\n",
       "      <td>3</td>\n",
       "      <td>4.4</td>\n",
       "      <td>Green</td>\n",
       "      <td>Very Good</td>\n",
       "      <td>471</td>\n",
       "    </tr>\n",
       "  </tbody>\n",
       "</table>\n",
       "<p>2 rows × 21 columns</p>\n",
       "</div>"
      ],
      "text/plain": [
       "     Restaurant ID         Restaurant Name  Country Code       City  \\\n",
       "565        5704255  Famous Dave's Barbecue           214  Abu Dhabi   \n",
       "566        5701978          Pizza Di Rocco           214  Abu Dhabi   \n",
       "\n",
       "                                               Address  \\\n",
       "565  Near The One, Level 3, Abu Dhabi Mall, Tourist...   \n",
       "566  Near Corner of Salam and Al Falah Street (9th ...   \n",
       "\n",
       "                                            Locality  \\\n",
       "565  Abu Dhabi Mall, Tourist Club Area  (Al Zahiyah)   \n",
       "566                                       Al Dhafrah   \n",
       "\n",
       "                                      Locality Verbose  Longitude   Latitude  \\\n",
       "565  Abu Dhabi Mall, Tourist Club Area  (Al Zahiyah...  54.382946  24.495693   \n",
       "566                              Al Dhafrah, Abu Dhabi  54.381931  24.485579   \n",
       "\n",
       "           Cuisines  ...            Currency Has Table booking  \\\n",
       "565        American  ...  Emirati Diram(AED)                No   \n",
       "566  Italian, Pizza  ...  Emirati Diram(AED)               Yes   \n",
       "\n",
       "    Has Online delivery Is delivering now Switch to order menu Price range  \\\n",
       "565                 Yes                No                   No           4   \n",
       "566                 Yes                No                   No           3   \n",
       "\n",
       "     Aggregate rating  Rating color Rating text Votes  \n",
       "565               4.6    Dark Green   Excellent   376  \n",
       "566               4.4         Green   Very Good   471  \n",
       "\n",
       "[2 rows x 21 columns]"
      ]
     },
     "execution_count": 27,
     "metadata": {},
     "output_type": "execute_result"
    }
   ],
   "source": [
    "data[data['Has Online delivery'] ==  'Yes'].head(2)"
   ]
  },
  {
   "cell_type": "code",
   "execution_count": 28,
   "metadata": {},
   "outputs": [
    {
     "data": {
      "text/plain": [
       "25.686438901697755"
      ]
     },
     "execution_count": 28,
     "metadata": {},
     "output_type": "execute_result"
    }
   ],
   "source": [
    "offer_online_delivery = float((online_count.get(\"Yes\") / total_rest) * 100)\n",
    "offer_online_delivery"
   ]
  },
  {
   "cell_type": "code",
   "execution_count": 29,
   "metadata": {},
   "outputs": [
    {
     "data": {
      "text/plain": [
       "'The percentage of restaurants that offer online delivery 25.69'"
      ]
     },
     "execution_count": 29,
     "metadata": {},
     "output_type": "execute_result"
    }
   ],
   "source": [
    "f\"The percentage of restaurants that offer online delivery {offer_online_delivery:.2f}\""
   ]
  },
  {
   "cell_type": "markdown",
   "metadata": {},
   "source": [
    "Compare the average ratings of restaurants\n",
    "with and without online delivery."
   ]
  },
  {
   "cell_type": "code",
   "execution_count": 30,
   "metadata": {},
   "outputs": [
    {
     "data": {
      "text/plain": [
       "3.2488372093023257"
      ]
     },
     "execution_count": 30,
     "metadata": {},
     "output_type": "execute_result"
    }
   ],
   "source": [
    "with_online_delivery = float(data[data['Has Online delivery'] == 'Yes']['Aggregate rating'].mean())\n",
    "with_online_delivery"
   ]
  },
  {
   "cell_type": "code",
   "execution_count": 31,
   "metadata": {},
   "outputs": [
    {
     "data": {
      "text/plain": [
       "2.4635171343957127"
      ]
     },
     "execution_count": 31,
     "metadata": {},
     "output_type": "execute_result"
    }
   ],
   "source": [
    "without_online_delivery = float(data[data['Has Online delivery'] == 'No']['Aggregate rating'].mean())\n",
    "without_online_delivery"
   ]
  },
  {
   "cell_type": "code",
   "execution_count": 32,
   "metadata": {},
   "outputs": [
    {
     "data": {
      "text/plain": [
       "'The average ratings of restaurants with online delivery \"3.25\" and without online delivery \"2.46\"'"
      ]
     },
     "execution_count": 32,
     "metadata": {},
     "output_type": "execute_result"
    }
   ],
   "source": [
    "f\"The average ratings of restaurants with online delivery \\\"{with_online_delivery:.2f}\\\" and without online delivery \\\"{without_online_delivery:.2f}\\\"\""
   ]
  },
  {
   "cell_type": "markdown",
   "metadata": {},
   "source": [
    "Level 2 \n",
    "Task 1:                  Task: Restaurant Ratings "
   ]
  },
  {
   "cell_type": "markdown",
   "metadata": {},
   "source": [
    "Analyze the distribution of aggregate\n",
    "ratings and determine the most common\n",
    "rating range."
   ]
  },
  {
   "cell_type": "code",
   "execution_count": 33,
   "metadata": {},
   "outputs": [
    {
     "data": {
      "text/plain": [
       "Aggregate rating\n",
       "0.0    2148\n",
       "1.8       1\n",
       "1.9       2\n",
       "2.0       7\n",
       "2.1      15\n",
       "2.2      27\n",
       "2.3      47\n",
       "2.4      87\n",
       "2.5     110\n",
       "2.6     191\n",
       "2.7     250\n",
       "2.8     315\n",
       "2.9     381\n",
       "3.0     468\n",
       "3.1     519\n",
       "3.2     522\n",
       "3.3     483\n",
       "3.4     495\n",
       "3.5     480\n",
       "3.6     458\n",
       "3.7     427\n",
       "3.8     399\n",
       "3.9     332\n",
       "4.0     266\n",
       "4.1     274\n",
       "4.2     221\n",
       "4.3     174\n",
       "4.4     143\n",
       "4.5      95\n",
       "4.6      78\n",
       "4.7      41\n",
       "4.8      25\n",
       "4.9      61\n",
       "Name: count, dtype: int64"
      ]
     },
     "execution_count": 33,
     "metadata": {},
     "output_type": "execute_result"
    }
   ],
   "source": [
    "data['Aggregate rating'].value_counts().sort_index()"
   ]
  },
  {
   "cell_type": "code",
   "execution_count": 34,
   "metadata": {},
   "outputs": [
    {
     "data": {
      "text/plain": [
       "'The most common rating range 0.0 and with 2148 occurrences'"
      ]
     },
     "execution_count": 34,
     "metadata": {},
     "output_type": "execute_result"
    }
   ],
   "source": [
    "rating_count = data['Aggregate rating'].value_counts().sort_index()\n",
    "f\"The most common rating range {rating_count.idxmax()} and with {rating_count.max()} occurrences\""
   ]
  },
  {
   "cell_type": "code",
   "execution_count": 35,
   "metadata": {},
   "outputs": [
    {
     "data": {
      "image/png": "[encoded data removed]",
      "text/plain": [
       "<Figure size 800x500 with 1 Axes>"
      ]
     },
     "metadata": {},
     "output_type": "display_data"
    }
   ],
   "source": [
    "plt.figure(figsize=(8, 5))\n",
    "\n",
    "sns.histplot(data['Aggregate rating'], bins=8, kde=True, color=\"green\")\n",
    "\n",
    "plt.xlabel(\"Aggregate Rating\")\n",
    "plt.ylabel(\"Occurrences\")\n",
    "plt.title(\"Distribution of Aggregate Ratings\")\n",
    "plt.show()"
   ]
  },
  {
   "cell_type": "markdown",
   "metadata": {},
   "source": [
    "Calculate the average number of votes\n",
    "received by restaurants."
   ]
  },
  {
   "cell_type": "code",
   "execution_count": 36,
   "metadata": {},
   "outputs": [
    {
     "name": "stdout",
     "output_type": "stream",
     "text": [
      "The average number of votes received by restaurants 156.77\n"
     ]
    }
   ],
   "source": [
    "agv_votes = float(data['Votes'].mean())\n",
    "print(f\"The average number of votes received by restaurants {agv_votes:.2f}\")"
   ]
  },
  {
   "cell_type": "markdown",
   "metadata": {},
   "source": [
    "Task 2\n",
    "                                    Task: Cuisine Combination"
   ]
  },
  {
   "cell_type": "markdown",
   "metadata": {},
   "source": [
    "Identify the most common combinations of\n",
    "cuisines in the dataset."
   ]
  },
  {
   "cell_type": "code",
   "execution_count": 37,
   "metadata": {},
   "outputs": [
    {
     "data": {
      "text/plain": [
       "[('North Indian', 936),\n",
       " ('North Indian, Chinese', 511),\n",
       " ('Chinese', 354),\n",
       " ('Fast Food', 354),\n",
       " ('North Indian, Mughlai', 334),\n",
       " ('Cafe', 299),\n",
       " ('Bakery', 218),\n",
       " ('North Indian, Mughlai, Chinese', 197),\n",
       " ('Bakery, Desserts', 170),\n",
       " ('Street Food', 149),\n",
       " ('Pizza, Fast Food', 131),\n",
       " ('Chinese, Fast Food', 118),\n",
       " ('Mithai, Street Food', 116),\n",
       " ('South Indian', 112),\n",
       " ('Bakery, Fast Food', 108),\n",
       " ('Chinese, North Indian', 105),\n",
       " ('Mughlai', 103),\n",
       " ('Ice Cream, Desserts', 83),\n",
       " ('Ice Cream', 74),\n",
       " ('North Indian, Fast Food', 74),\n",
       " ('Mithai', 71),\n",
       " ('North Indian, Chinese, Mughlai', 70),\n",
       " ('North Indian, Chinese, Fast Food', 68),\n",
       " ('North Indian, Chinese, Continental', 65),\n",
       " ('Bakery, Desserts, Fast Food', 63),\n",
       " ('American, Fast Food, Salad, Healthy Food', 62),\n",
       " ('Mughlai, North Indian', 60),\n",
       " ('Fast Food, Burger', 56),\n",
       " ('Biryani', 54),\n",
       " ('Italian', 54),\n",
       " ('Beverages', 54),\n",
       " ('Pizza', 53),\n",
       " ('Desserts', 53),\n",
       " ('Chinese, Thai', 51),\n",
       " ('Raw Meats, North Indian, Fast Food', 49),\n",
       " ('Finger Food', 49),\n",
       " ('Fast Food, North Indian', 46),\n",
       " ('North Indian, South Indian, Chinese', 46),\n",
       " ('Raw Meats, Fast Food', 44),\n",
       " ('Fast Food, Beverages', 44),\n",
       " ('Burger, Fast Food', 43),\n",
       " ('South Indian, North Indian, Chinese', 42),\n",
       " ('Fast Food, Chinese', 41),\n",
       " ('Italian, Pizza, Fast Food', 36),\n",
       " ('Mexican', 36),\n",
       " ('North Indian, South Indian', 35),\n",
       " ('South Indian, Chinese', 34),\n",
       " ('North Indian, Chinese, South Indian', 34),\n",
       " ('American', 31),\n",
       " ('North Indian, Continental', 28),\n",
       " ('Desserts, Ice Cream', 26),\n",
       " ('Italian, Pizza', 24),\n",
       " ('North Indian, Street Food', 22),\n",
       " ('Burger, Desserts, Fast Food', 22),\n",
       " ('Continental', 21),\n",
       " ('Cafe, Tea', 20),\n",
       " ('American, Fast Food', 20),\n",
       " ('Pizza, Italian', 19),\n",
       " ('South Indian, North Indian', 19),\n",
       " ('North Indian, Continental, Chinese', 18),\n",
       " ('Indian', 18),\n",
       " ('Street Food, Mithai', 18),\n",
       " ('Mughlai, North Indian, Chinese', 18),\n",
       " ('Fast Food, Street Food', 18),\n",
       " ('Biryani, North Indian', 18),\n",
       " ('Cafe, Fast Food', 18),\n",
       " ('Japanese, Sushi', 18),\n",
       " ('Asian', 18),\n",
       " ('Biryani, Mughlai', 17),\n",
       " ('Japanese', 17),\n",
       " ('Thai', 16),\n",
       " ('North Indian, Chinese, Italian', 16),\n",
       " ('Cafe, Bakery', 16),\n",
       " ('Beverages, Fast Food', 15),\n",
       " ('Healthy Food', 15),\n",
       " ('North Indian, Biryani', 15),\n",
       " ('Desserts, Beverages', 14),\n",
       " ('Seafood', 14),\n",
       " ('North Indian, South Indian, Chinese, Street Food, Fast Food, Mithai, Desserts',\n",
       "  14),\n",
       " ('Continental, Italian', 13),\n",
       " ('Continental, North Indian', 13),\n",
       " ('American, Burger', 13),\n",
       " ('Tibetan, Chinese', 13),\n",
       " ('North Indian, South Indian, Chinese, Fast Food', 13),\n",
       " ('North Indian, Chinese, Continental, Italian', 12),\n",
       " ('Cafe, Italian', 12),\n",
       " ('Street Food, North Indian', 12),\n",
       " ('Cafe, Continental', 12),\n",
       " ('Fast Food, Pizza', 11),\n",
       " ('Chinese, Mughlai, North Indian', 11),\n",
       " ('Chinese, South Indian', 11),\n",
       " ('Modern Indian', 11),\n",
       " ('Fast Food, North Indian, Chinese', 11),\n",
       " ('Desserts, Bakery', 11),\n",
       " ('Italian, Fast Food', 10),\n",
       " ('Continental, North Indian, Chinese', 10),\n",
       " ('North Indian, Chinese, South Indian, Fast Food', 10),\n",
       " ('Asian, Chinese', 10),\n",
       " ('Cafe, Continental, Italian', 10),\n",
       " ('Fast Food, Bakery', 9),\n",
       " ('North Indian, Fast Food, Chinese', 9),\n",
       " ('South Indian, Fast Food', 9),\n",
       " ('Street Food, Fast Food', 9),\n",
       " ('Lebanese', 9),\n",
       " ('North Indian, Continental, Italian', 9),\n",
       " ('BBQ', 9),\n",
       " ('Cafe, North Indian, Chinese', 9),\n",
       " ('North Indian, South Indian, Fast Food', 9),\n",
       " ('Cafe, Desserts', 9),\n",
       " ('Brazilian', 9),\n",
       " ('Japanese, Steak, Sushi', 8),\n",
       " ('American, Seafood, Steak', 8),\n",
       " ('North Indian, Mughlai, Chinese, Fast Food', 8),\n",
       " ('Italian, Pizza, Bakery', 8),\n",
       " ('Raw Meats, Fast Food, North Indian', 8),\n",
       " ('North Indian, Mughlai, Biryani', 8),\n",
       " ('Kashmiri', 8),\n",
       " ('North Indian, South Indian, Fast Food, Street Food, Chinese, Beverages, Desserts, Mithai',\n",
       "  8),\n",
       " ('Healthy Food, Salad', 8),\n",
       " ('Chinese, North Indian, Mughlai', 8),\n",
       " ('Tea, Fast Food', 8),\n",
       " ('North Indian, Chinese, Italian, Continental', 8),\n",
       " ('North Indian, Continental, Asian', 8),\n",
       " ('Chinese, Thai, Asian', 8),\n",
       " ('Mughlai, Biryani', 8),\n",
       " ('Steak', 7),\n",
       " ('American, Breakfast', 7),\n",
       " ('French', 7),\n",
       " ('Continental, Chinese, North Indian', 7),\n",
       " ('Fast Food, Italian', 7),\n",
       " ('American, Fast Food, Burger', 7),\n",
       " ('Desserts, Street Food', 7),\n",
       " ('Mithai, Fast Food', 7),\n",
       " ('North Indian, Italian, Continental', 7),\n",
       " ('European', 7),\n",
       " ('Biryani, Hyderabadi', 7),\n",
       " ('Chinese, North Indian, South Indian', 6),\n",
       " ('Continental, Italian, North Indian', 6),\n",
       " ('Cafe, Bakery, Desserts', 6),\n",
       " ('Cafe, Chinese', 6),\n",
       " ('International', 6),\n",
       " ('Chinese, North Indian, Fast Food', 6),\n",
       " ('Tea', 6),\n",
       " ('Mithai, North Indian', 6),\n",
       " ('Korean', 6),\n",
       " ('Desserts, Fast Food', 6),\n",
       " ('North Indian, Chinese, Street Food', 6),\n",
       " ('Mughlai, Chinese', 6),\n",
       " ('Ice Cream, Beverages, Fast Food', 6),\n",
       " ('Bengali, North Indian', 6),\n",
       " ('Burger', 6),\n",
       " ('Chinese, Continental, North Indian', 6),\n",
       " ('Italian, Continental', 6),\n",
       " ('Cafe, Italian, Continental', 6),\n",
       " ('Maharashtrian', 6),\n",
       " ('Continental, North Indian, Italian', 6),\n",
       " ('Burger, American, Fast Food', 6),\n",
       " ('North Indian, Italian, Chinese', 6),\n",
       " ('Continental, Healthy Food', 6),\n",
       " ('Bakery, Mithai', 6),\n",
       " ('Street Food, Chinese', 6),\n",
       " ('Chinese, Fast Food, North Indian', 6),\n",
       " ('Kerala', 5),\n",
       " ('North Indian, Chinese, South Indian, Mithai', 5),\n",
       " ('Pizza, Sandwich', 5),\n",
       " ('American, Tex-Mex', 5),\n",
       " ('North Indian, Street Food, Mithai', 5),\n",
       " ('North Indian, European', 5),\n",
       " ('Chinese, Tibetan', 5),\n",
       " ('Cafe, European', 5),\n",
       " ('Bengali', 5),\n",
       " ('North Indian, Chinese, Thai', 5),\n",
       " ('Chinese, Asian, Thai', 5),\n",
       " ('European, Continental', 5),\n",
       " ('Bakery, Chinese', 5),\n",
       " ('American, Italian', 5),\n",
       " ('North Indian, Mughlai, Chinese, South Indian', 5),\n",
       " ('North Indian, Biryani, Chinese, Fast Food', 5),\n",
       " ('Mughlai, Fast Food', 5),\n",
       " ('Biryani, North Indian, Mughlai', 5),\n",
       " ('Continental, North Indian, Asian', 5),\n",
       " ('Finger Food, North Indian, Italian', 5),\n",
       " ('Continental, American', 5),\n",
       " ('North Indian, European, Mediterranean', 5),\n",
       " ('Italian, Pizza, Sandwich', 5),\n",
       " ('Street Food, South Indian, Mithai', 5),\n",
       " ('Chinese, Italian, North Indian', 4),\n",
       " ('North Indian, Asian, Continental', 4),\n",
       " ('European, Chinese, North Indian, Italian', 4),\n",
       " ('North Indian, Chinese, Finger Food', 4),\n",
       " ('North Indian, Bengali', 4),\n",
       " ('Kebab, Turkish Pizza', 4),\n",
       " ('Mediterranean', 4),\n",
       " ('North Indian, Chinese, South Indian, Seafood, Chettinad', 4),\n",
       " ('Chinese, South Indian, Fast Food', 4),\n",
       " ('Italian, Continental, European, Cafe', 4),\n",
       " ('Chinese, Seafood', 4),\n",
       " ('North Indian, Mithai', 4),\n",
       " ('Turkish', 4),\n",
       " ('Cafe, Chinese, Italian', 4),\n",
       " ('South Indian, Chinese, North Indian', 4),\n",
       " ('Cafe, Italian, Desserts, Fast Food, Chinese, Tea', 4),\n",
       " ('Healthy Food, Continental', 4),\n",
       " ('European, Italian', 4),\n",
       " ('North Indian, South Indian, Street Food, Mithai', 4),\n",
       " ('Fast Food, Italian, Pizza', 4),\n",
       " ('American, Burger, Sandwich', 4),\n",
       " ('North Indian, Rajasthani', 4),\n",
       " ('Chinese, Japanese, Thai', 4),\n",
       " ('American, Southern', 4),\n",
       " ('North Indian, Fast Food, South Indian', 4),\n",
       " ('Rajasthani', 4),\n",
       " ('Southern', 4),\n",
       " ('Chinese, North Indian, Italian', 4),\n",
       " ('Breakfast', 4),\n",
       " ('American, Bar Food', 4),\n",
       " ('American, BBQ, Steak', 4),\n",
       " ('Italian, Chinese, Continental, Thai, Mediterranean, Lebanese', 4),\n",
       " ('Cafe, Continental, Chinese', 4),\n",
       " ('Juices', 4),\n",
       " ('Fast Food, Desserts', 4),\n",
       " ('Chinese, Thai, Fast Food', 4),\n",
       " ('Continental, American, Asian, North Indian', 4),\n",
       " ('Mithai, Street Food, North Indian', 4),\n",
       " ('Portuguese, African', 4),\n",
       " ('Brazilian, Bar Food', 4),\n",
       " ('Healthy Food, Beverages', 4),\n",
       " ('Bakery, Fast Food, Chinese', 4),\n",
       " ('Healthy Food, Juices', 4),\n",
       " ('Afghani', 4),\n",
       " ('North Indian, Chinese, Continental, Fast Food', 4),\n",
       " ('Sushi', 4),\n",
       " ('Chinese, Asian', 4),\n",
       " ('Cafe, Italian, Chinese', 3),\n",
       " ('North Indian, Chinese, Continental, Thai', 3),\n",
       " ('Chinese, North Indian, Mughlai, Continental', 3),\n",
       " ('Ice Cream, Desserts, Beverages', 3),\n",
       " ('North Indian, Mughlai, Chinese, Seafood', 3),\n",
       " ('German', 3),\n",
       " ('Cafe, North Indian, Continental', 3),\n",
       " ('Sushi, Asian', 3),\n",
       " ('Bar Food', 3),\n",
       " ('North Indian, Mediterranean, Asian', 3),\n",
       " ('North Indian, Continental, Fast Food', 3),\n",
       " ('Asian, Thai', 3),\n",
       " ('Bakery, Fast Food, Desserts', 3),\n",
       " ('Italian, North Indian, Continental', 3),\n",
       " ('Desserts, Cafe', 3),\n",
       " ('Filipino', 3),\n",
       " ('Cafe, Italian, Lebanese', 3),\n",
       " ('Bakery, Italian, Chinese, Mexican', 3),\n",
       " ('Nepalese', 3),\n",
       " ('Hawaiian, Seafood, Steak', 3),\n",
       " ('Fast Food, Chinese, Bakery', 3),\n",
       " ('Bakery, Desserts, Cafe', 3),\n",
       " ('Pizza, Cafe, Italian', 3),\n",
       " ('Lebanese, Arabian, Moroccan', 3),\n",
       " ('Continental, American, Italian', 3),\n",
       " ('Burmese, Chinese, Japanese, Malaysian, Thai', 3),\n",
       " ('Street Food, South Indian', 3),\n",
       " ('Raw Meats, North Indian', 3),\n",
       " ('Fast Food, Turkish', 3),\n",
       " ('Street Food, North Indian, South Indian, Mithai', 3),\n",
       " ('South Indian, Chinese, Fast Food', 3),\n",
       " ('Street Food, Beverages', 3),\n",
       " ('Mithai, Bakery', 3),\n",
       " ('European, Mediterranean, North Indian', 3),\n",
       " ('American, Steak', 3),\n",
       " ('Breakfast, Burger', 3),\n",
       " ('North Indian, Continental, Chinese, Italian', 3),\n",
       " ('Bakery, Chinese, Fast Food', 3),\n",
       " ('Spanish, Tapas', 3),\n",
       " ('Burger, Fast Food, Chinese', 3),\n",
       " ('North Indian, Chinese, Cafe', 3),\n",
       " ('Chinese, Continental', 3),\n",
       " ('Kerala, South Indian', 3),\n",
       " ('Lucknowi', 3),\n",
       " ('Chinese, Thai, Japanese', 3),\n",
       " ('Mexican, American, Tex-Mex, Burger', 3),\n",
       " ('Mexican, Fast Food', 3),\n",
       " ('North Indian, Mughlai, Fast Food', 3),\n",
       " ('Continental, Fast Food', 3),\n",
       " ('Seafood, North Indian', 3),\n",
       " ('Japanese, Sushi, Thai', 3),\n",
       " ('North Indian, South Indian, Street Food', 3),\n",
       " ('North Indian, Mughlai, Chinese, Continental', 3),\n",
       " ('American, Mexican', 3),\n",
       " ('North Indian, South Indian, Mughlai', 3),\n",
       " ('Gujarati', 3),\n",
       " ('Burger, Seafood, Steak', 3),\n",
       " ('Chinese, Thai, Seafood', 3),\n",
       " ('American, Pizza, Bar Food', 3),\n",
       " ('Mithai, North Indian, South Indian, Street Food', 3),\n",
       " ('Chinese, South Indian, North Indian', 3),\n",
       " ('Bihari', 3),\n",
       " ('Chinese, North Indian, Fast Food, Italian', 3),\n",
       " ('North Indian, Fast Food, Mughlai', 3),\n",
       " ('American, Italian, Pizza', 3),\n",
       " ('Italian, Mediterranean, Pizza', 3),\n",
       " ('Thai, Chinese', 3),\n",
       " ('Naga', 3),\n",
       " ('Mithai, South Indian, Street Food', 3),\n",
       " ('Parsi, Iranian', 3),\n",
       " ('Bakery, Desserts, Beverages', 3),\n",
       " ('Cafe, Fast Food, North Indian', 3),\n",
       " ('Chinese, Italian, Fast Food', 3),\n",
       " ('American, Breakfast, Burger', 3),\n",
       " ('Chinese, Mughlai', 3),\n",
       " ('North Indian, Fast Food, Italian, Asian', 3),\n",
       " ('North Indian, South Indian, Chinese, Mithai', 3),\n",
       " ('Bakery, Cafe', 3),\n",
       " ('Lebanese, Arabian', 3),\n",
       " ('Mediterranean, Italian', 3),\n",
       " ('Finger Food, North Indian, Chinese', 3),\n",
       " ('North Indian, Street Food, Fast Food', 3),\n",
       " ('North Indian, Continental, Mughlai, Asian', 3),\n",
       " ('South Indian, Biryani', 3),\n",
       " ('Chinese, Seafood, Japanese', 3),\n",
       " ('Desserts, Bakery, Fast Food', 3),\n",
       " ('Lebanese, Mediterranean, Middle Eastern, Arabian', 3),\n",
       " ('Indian, North Indian', 3),\n",
       " ('Ice Cream, Beverages', 3),\n",
       " ('Biryani, North Indian, Hyderabadi', 3),\n",
       " ('Cafe, Chinese, Fast Food', 3),\n",
       " ('Pizza, Bar Food', 3),\n",
       " ('Asian, Thai, Chinese', 3),\n",
       " ('Fast Food, North Indian, South Indian', 3),\n",
       " ('Mithai, Chinese', 3),\n",
       " ('North Indian, Italian', 3),\n",
       " ('Desserts, Ice Cream, Fast Food', 3),\n",
       " ('Street Food, Desserts', 3),\n",
       " ('Japanese, Korean', 3),\n",
       " ('Sunda, Indonesian', 3),\n",
       " ('Raw Meats', 3),\n",
       " ('Cafe, Beverages', 3),\n",
       " ('Indian, Street Food', 3),\n",
       " ('British', 3),\n",
       " ('Burger, American', 3),\n",
       " ('Chinese, Dim Sum', 2),\n",
       " ('British, Contemporary', 2),\n",
       " ('Asian, European', 2),\n",
       " ('Filipino, Mexican', 2),\n",
       " ('Kebab', 2),\n",
       " ('Continental, North Indian, Mughlai, Burmese', 2),\n",
       " ('North Indian, Chinese, South Indian, Chinese', 2),\n",
       " ('Juices, Healthy Food', 2),\n",
       " ('Italian, North Indian', 2),\n",
       " ('Pakistani', 2),\n",
       " ('North Indian, Chinese, Raw Meats', 2),\n",
       " ('Mithai, Street Food, Chinese', 2),\n",
       " ('North Indian, Mughlai, Continental', 2),\n",
       " ('North Indian, Mughlai, Seafood', 2),\n",
       " ('Oriya', 2),\n",
       " ('Hyderabadi, North Indian, Biryani', 2),\n",
       " ('Modern Indian, North Indian', 2),\n",
       " ('Continental, Chinese, Thai, Mughlai, North Indian', 2),\n",
       " ('Seafood, American', 2),\n",
       " ('Cafe, Burger', 2),\n",
       " ('American, Mexican, Burger', 2),\n",
       " ('Fast Food, American', 2),\n",
       " ('North Indian, Chinese, Continental, Mughlai', 2),\n",
       " ('Breakfast, Sandwich', 2),\n",
       " ('Italian, North Indian, Chinese, Mughlai', 2),\n",
       " ('Chinese, Bakery', 2),\n",
       " ('American, Tex-Mex, Italian, Mexican, North Indian', 2),\n",
       " ('Mithai, North Indian, Chinese, Street Food', 2),\n",
       " ('North Indian, Mithai, Street Food', 2),\n",
       " ('Indian, South Indian', 2),\n",
       " ('Indian, North Indian, Chinese', 2),\n",
       " ('Chinese, Seafood, Asian', 2),\n",
       " ('North Indian, Street Food, South Indian, Fast Food, Chinese', 2),\n",
       " ('Continental, American, North Indian, Chinese', 2),\n",
       " ('Chinese, Street Food', 2),\n",
       " ('Street Food, Bakery', 2),\n",
       " ('Japanese, Chinese, Thai', 2),\n",
       " ('Street Food, North Indian, Mithai', 2),\n",
       " ('Bakery, Street Food', 2),\n",
       " ('North Indian, Mughlai, South Indian', 2),\n",
       " ('Goan', 2),\n",
       " ('South Indian, Kerala', 2),\n",
       " ('Mughlai, Lucknowi, Awadhi', 2),\n",
       " ('North Indian, Asian', 2),\n",
       " ('Japanese, Thai, Italian, Asian', 2),\n",
       " ('Cafe, Fast Food, Street Food', 2),\n",
       " ('Thai, Asian', 2),\n",
       " ('North Indian, Continental, Italian, Chinese', 2),\n",
       " ('Continental, European', 2),\n",
       " ('Asian, Chinese, Thai', 2),\n",
       " ('Pakistani, Indian', 2),\n",
       " ('North Indian, Mughlai, Awadhi', 2),\n",
       " ('Chinese, Italian, Continental, North Indian', 2),\n",
       " ('North Indian, Continental, Mexican, Italian', 2),\n",
       " ('South Indian, North Indian, Chinese, Fast Food', 2),\n",
       " ('Gujarati, Rajasthani', 2),\n",
       " ('European, American, Street Food', 2),\n",
       " ('Continental, European, North Indian', 2),\n",
       " ('Indian, Middle Eastern', 2),\n",
       " ('Cafe, North Indian, Italian', 2),\n",
       " ('Continental, Chinese', 2),\n",
       " ('Mexican, Italian', 2),\n",
       " ('European, Cafe', 2),\n",
       " ('American, Desserts', 2),\n",
       " ('North Indian, Finger Food', 2),\n",
       " ('Chinese, Thai, Japanese, Tibetan', 2),\n",
       " ('Continental, North Indian, Mughlai, Chinese', 2),\n",
       " ('Cafe, Bakery, Fast Food', 2),\n",
       " ('North Indian, Asian, European', 2),\n",
       " ('Juices, Desserts', 2),\n",
       " ('North Indian, South Indian, Chinese, Street Food, Mithai', 2),\n",
       " ('American, Italian, Seafood', 2),\n",
       " ('European, American', 2),\n",
       " ('North Indian, Italian, Chinese, Mexican', 2),\n",
       " ('Fast Food, Beverages, Desserts', 2),\n",
       " ('Continental, North Indian, South Indian', 2),\n",
       " ('North Indian, Maharashtrian', 2),\n",
       " ('Chinese, North Indian, Street Food', 2),\n",
       " ('Parsi', 2),\n",
       " ('Italian, Continental, Cafe', 2),\n",
       " ('Cafe, North Indian, Fast Food', 2),\n",
       " ('Japanese, Asian', 2),\n",
       " ('Bakery, Desserts, Chinese, Fast Food', 2),\n",
       " ('Street Food, Chinese, North Indian, Mithai', 2),\n",
       " ('North Indian, Mughlai, Chinese, Italian', 2),\n",
       " ('Tibetan, Nepalese', 2),\n",
       " ('Drinks Only', 2),\n",
       " ('Japanese, Chinese, Asian, Malaysian, Thai, Vietnamese', 2),\n",
       " ('Asian, North Indian', 2),\n",
       " ('Continental, North Indian, Italian, Asian', 2),\n",
       " ('North Indian, European, Asian, Mediterranean', 2),\n",
       " ('Bengali, North Indian, Chinese', 2),\n",
       " ('Fast Food, North Indian, Desserts, Ice Cream', 2),\n",
       " ('Assamese, Chinese', 2),\n",
       " ('North Eastern', 2),\n",
       " ('North Indian, Italian, Fast Food', 2),\n",
       " ('Coffee and Tea, Sandwich', 2),\n",
       " ('Cafe, Continental, Fast Food, Italian', 2),\n",
       " ('Burger, Bar Food', 2),\n",
       " ('Fast Food, Chinese, North Indian', 2),\n",
       " ('Cafe, Continental, Italian, North Indian', 2),\n",
       " ('South Indian, Street Food, Mithai', 2),\n",
       " ('Cafe, North Indian, Continental, Chinese', 2),\n",
       " ('Cafe, Continental, Chinese, Italian', 2),\n",
       " ('Burger, Pizza, Sandwich', 2),\n",
       " ('Street Food, North Indian, South Indian, Chinese, Mithai', 2),\n",
       " ('North Indian, Continental, Chinese, Italian, Thai, Mughlai', 2),\n",
       " ('North Indian, Continental, Finger Food', 2),\n",
       " ('Italian, Mediterranean, Continental, North Indian', 2),\n",
       " ('Tapas', 2),\n",
       " ('Latin American, Mexican, Southwestern', 2),\n",
       " ('Sandwich, Seafood, Cajun', 2),\n",
       " ('Breakfast, Coffee and Tea', 2),\n",
       " ('Chinese, Japanese', 2),\n",
       " ('Cafe, Healthy Food, Continental', 2),\n",
       " ('Chinese, Beverages', 2),\n",
       " ('Cafe, Italian, Chinese, Continental', 2),\n",
       " ('South Indian, Fast Food, Chinese', 2),\n",
       " ('North Indian, South Indian, Street Food, Bakery', 2),\n",
       " ('Fast Food, Street Food, Beverages', 2),\n",
       " ('Healthy Food, Juices, Salad, Italian, Continental', 2),\n",
       " ('Mughlai, Chinese, North Indian', 2),\n",
       " ('Latin American', 2),\n",
       " ('Seafood, Sushi', 2),\n",
       " ('Cafe, Fast Food, Italian, Chinese', 2),\n",
       " ('Cafe, Italian, Continental, Chinese', 2),\n",
       " ('Middle Eastern, Mediterranean, North Indian', 2),\n",
       " ('North Indian, Italian, Chinese, Fast Food', 2),\n",
       " ('Hyderabadi', 2),\n",
       " ('Chinese, Mithai', 2),\n",
       " ('European, Italian, North Indian', 2),\n",
       " ('Finger Food, Italian, North Indian', 2),\n",
       " ('Ice Cream, Fast Food, Beverages', 2),\n",
       " ('Fast Food, American, Italian', 2),\n",
       " ('Mexican, American, Italian', 2),\n",
       " ('South Indian, Chettinad', 2),\n",
       " ('Chinese, Thai, Asian, Malaysian, Vietnamese, Japanese', 2),\n",
       " ('Street Food, Chinese, North Indian', 2),\n",
       " ('Fast Food, North Indian, Beverages', 2),\n",
       " ('Cafe, Italian, Chinese, North Indian', 2),\n",
       " ('Healthy Food, Continental, Juices, Salad', 2),\n",
       " ('North Indian, Mediterranean, Continental', 2),\n",
       " ('Cafe, Fast Food, Italian', 2),\n",
       " ('Beverages, Desserts', 2),\n",
       " ('Mediterranean, Italian, Continental, Spanish, North Indian', 2),\n",
       " ('Kerala, Biryani', 2),\n",
       " ('Cafe, Italian, Fast Food', 2),\n",
       " ('Cafe, Continental, Fast Food', 2),\n",
       " ('Seafood, Italian', 2),\n",
       " ('European, Desserts', 2),\n",
       " ('North Indian, Chinese, Fast Food, Street Food', 2),\n",
       " ('American, BBQ, Burger', 2),\n",
       " ('Asian, Vietnamese', 2),\n",
       " ('North Indian, South Indian, Chinese, Street Food', 2),\n",
       " ('Finger Food, North Indian', 2),\n",
       " ('Continental, North Indian, Chinese, Mughlai, Asian', 2),\n",
       " ('Continental, North Indian, Chinese, Cafe', 2),\n",
       " ('European, Continental, North Indian', 2),\n",
       " ('Fast Food, Italian, North Indian, Chinese', 2),\n",
       " ('Cafe, Fast Food, Desserts', 2),\n",
       " ('Sushi, Japanese', 2),\n",
       " ('BBQ, Burger, Seafood', 2),\n",
       " ('American, BBQ', 2),\n",
       " ('North Indian, Thai, Continental', 2),\n",
       " ('Italian, European', 2),\n",
       " ('Vietnamese', 2),\n",
       " ('Modern Australian', 2),\n",
       " ('American, BBQ, Southern', 2),\n",
       " ('Desserts, Sandwich', 2),\n",
       " ('Italian, Chinese, North Indian', 2),\n",
       " ('Cafe, Desserts, Bakery', 2),\n",
       " ('Mediterranean, American, Asian', 2),\n",
       " ('Chinese, Thai, Continental, North Indian', 2),\n",
       " ('Hyderabadi, North Indian', 2),\n",
       " ('Cafe, Mexican', 2),\n",
       " ('Chinese, Fast Food, Bakery', 2),\n",
       " ('Continental, American, Italian, Seafood, North Indian, Cafe', 2),\n",
       " ('North Indian, South Indian, Chinese, Fast Food, Mithai', 2),\n",
       " ('North Indian, South Indian, Fast Food, Street Food, Mithai', 2),\n",
       " ('Cafe, North Indian, Chinese, Continental', 2),\n",
       " ('South American', 2),\n",
       " ('Steak, American', 2),\n",
       " ('Bengali, Seafood', 2),\n",
       " ('Mediterranean, Italian, European', 2),\n",
       " ('Finger Food, Continental, Italian', 2),\n",
       " ('Kebab, Desserts, Turkish Pizza', 2),\n",
       " ('Restaurant Cafe', 2),\n",
       " ('Mithai, North Indian, South Indian, Chinese, Street Food', 2),\n",
       " ('Fast Food, South Indian', 2),\n",
       " ('European, North Indian', 2),\n",
       " ('Tibetan', 2),\n",
       " ('Tibetan, Chinese, North Indian', 2),\n",
       " ('Chinese, Thai, Sushi', 2),\n",
       " ('North Indian, Chinese, Italian, Fast Food', 2),\n",
       " ('Mithai, Street Food, Fast Food', 2),\n",
       " ('Bar Food, Brazilian', 2),\n",
       " ('Indian, Curry', 2),\n",
       " ('North Indian, Chinese, Mughlai, Fast Food', 2),\n",
       " ('Continental, Fast Food, Italian', 2),\n",
       " ('North Indian, Chinese, Mediterranean', 2),\n",
       " ('Italian, Continental, North Indian, Chinese', 2),\n",
       " ('Continental, Mexican, Fast Food, Chinese', 2),\n",
       " ('Italian, Chinese', 2),\n",
       " ('Malaysian', 2),\n",
       " ('Taiwanese, Street Food', 2),\n",
       " ('Seafood, Kiwi', 2),\n",
       " ('North Indian, Continental, Goan', 2),\n",
       " ('Continental, Goan, Seafood, North Indian', 2),\n",
       " ('Seafood, Western', 2),\n",
       " ('Italian, World Cuisine', 1),\n",
       " ('French, Japanese, Desserts', 1),\n",
       " ('Seafood, Asian, Filipino, Indian', 1),\n",
       " ('Seafood, Filipino, Asian, European', 1),\n",
       " ('European, Asian, Indian', 1),\n",
       " ('American, Ice Cream, Desserts', 1),\n",
       " ('Cafe, American, Italian, Filipino', 1),\n",
       " ('Cafe, Korean, Desserts', 1),\n",
       " ('American, Fast Food, Steak, Beverages', 1),\n",
       " ('Patisserie, Coffee and Tea', 1),\n",
       " ('Kebab, Izgara', 1),\n",
       " ('World Cuisine', 1),\n",
       " ('World Cuisine, Mexican, Italian', 1),\n",
       " ('Kebab, Turkish Pizza, D�_ner', 1),\n",
       " ('Street Food, Continental, Burger, Grill', 1),\n",
       " ('Cafe, Tapas, South African, Beverages, Healthy Food, Desserts, Spanish', 1),\n",
       " ('Continental, Seafood, Burger, South African, Finger Food, Grill', 1),\n",
       " ('Italian, Mediterranean, Sushi, Desserts', 1),\n",
       " ('European, South African, Steak', 1),\n",
       " ('Cafe, Grill', 1),\n",
       " ('Contemporary, Sushi, Grill, Italian, Steak', 1),\n",
       " ('Cafe, Italian, Pizza, European, Bakery, Deli', 1),\n",
       " ('Indian, Asian, Durban, International, Desserts', 1),\n",
       " ('Street Food, Burger, American, Finger Food, German', 1),\n",
       " ('Burger, American, Beverages', 1),\n",
       " ('Healthy Food, Seafood, Beverages, Belgian, Contemporary, Desserts, Finger Food, International',\n",
       "  1),\n",
       " ('Cafe, Burger, Tapas, South African, European, Grill', 1),\n",
       " ('Burger, Steak, Seafood', 1),\n",
       " ('African', 1),\n",
       " ('Continental, South African, Beverages, Desserts, Seafood, Grill, Ice Cream, International',\n",
       "  1),\n",
       " ('Cafe, Italian, Mexican, Continental', 1),\n",
       " ('Continental, European, Asian, North Indian, Chinese, Italian', 1),\n",
       " ('Mediterranean, Continental', 1),\n",
       " ('Continental, North Indian, Chinese, Italian', 1),\n",
       " ('Cafe, Belgian', 1),\n",
       " ('Chinese, Thai, North Indian, Japanese', 1),\n",
       " ('Italian, Pizza, Lebanese', 1),\n",
       " ('North Indian, Chinese, Continental, Goan, Seafood', 1),\n",
       " ('Seafood, French', 1),\n",
       " ('Continental, North Indian, Italian, Seafood, Goan', 1),\n",
       " ('Italian, French, Cafe', 1),\n",
       " ('Fast Food, Cafe, Desserts, Bakery', 1),\n",
       " ('Fast Food, Chinese, Burger', 1),\n",
       " ('Mithai, Bakery, Street Food, Chinese, South Indian', 1),\n",
       " ('Mithai, South Indian, Chinese, Street Food', 1),\n",
       " ('South Indian, Street Food', 1),\n",
       " ('Chinese, Thai, Tibetan', 1),\n",
       " ('Desserts, North Indian, Chinese, South Indian, Fast Food, Street Food', 1),\n",
       " ('Mediterranean, European, American, North Indian', 1),\n",
       " ('Chinese, Japanese, Thai, Asian', 1),\n",
       " ('Cafe, Italian, Pizza', 1),\n",
       " ('Chinese, Japanese, Sushi', 1),\n",
       " ('Persian, Arabian, Lebanese, North Indian', 1),\n",
       " ('Asian, Burmese', 1),\n",
       " ('Juices, Beverages', 1),\n",
       " ('Raw Meats, North Indian, Chinese, Fast Food', 1),\n",
       " ('Cafe, American, Mexican, Italian, Thai', 1),\n",
       " ('Fast Food, Desserts, Ice Cream, Beverages', 1),\n",
       " ('Fast Food, Chinese, Italian', 1),\n",
       " ('Mithai, North Indian, South Indian, Chinese, Fast Food', 1),\n",
       " ('Cafe, Italian, Salad', 1),\n",
       " ('North Indian, Seafood', 1),\n",
       " ('Continental, Chinese, Thai, Malaysian, North Indian', 1),\n",
       " ('Continental, Fast Food, Desserts, Indian', 1),\n",
       " ('South Indian, Chettinad, North Indian', 1),\n",
       " ('North Indian, Mediterranean, Asian, Arabian', 1),\n",
       " ('Continental, Cafe, Spanish, Italian, European, Greek, Mediterranean', 1),\n",
       " ('European, Cafe, Italian', 1),\n",
       " ('Burmese, Chinese, Thai', 1),\n",
       " ('North Indian, Continental, Chinese, Japanese, Italian, Thai', 1),\n",
       " ('Finger Food, North Indian, Italian, European, Continental', 1),\n",
       " ('Beverages, Salad', 1),\n",
       " ('Street Food, Fast Food, North Indian', 1),\n",
       " ('American, Italian, Chinese', 1),\n",
       " ('Mediterranean, Mexican, North Indian, American', 1),\n",
       " ('North Indian, South Indian, Gujarati, Rajasthani', 1),\n",
       " ('North Indian, Mediterranean, Asian, Chinese', 1),\n",
       " ('Burger, Desserts', 1),\n",
       " ('North Indian, Biryani, Fast Food, Chinese', 1),\n",
       " ('North Indian, Greek, Mughlai', 1),\n",
       " ('Cafe, Street Food', 1),\n",
       " ('Continental, Italian, Pizza, Asian', 1),\n",
       " ('Chinese, Mexican, Fast Food, Continental', 1),\n",
       " ('Beverages, Juices', 1),\n",
       " ('Italian, Mexican, Chinese, Thai, North Indian', 1),\n",
       " ('Continental, Cafe, Italian, Desserts', 1),\n",
       " ('North Indian, Chinese, Arabian', 1),\n",
       " ('European, Italian, Desserts', 1),\n",
       " ('Desserts, American', 1),\n",
       " ('Burger, Fast Food, Desserts, Beverages', 1),\n",
       " ('North Indian, Chinese, Continental, Italian, Burger', 1),\n",
       " ('Italian, North Indian, Desserts', 1),\n",
       " ('North Indian, Chinese, Italian, Mexican', 1),\n",
       " ('Parsi, North Indian', 1),\n",
       " ('North Indian, Chinese, Continental, Pizza', 1),\n",
       " ('Asian, Continental', 1),\n",
       " ('Italian, Cafe, Chinese, Continental', 1),\n",
       " ('Cafe, Chinese, Fast Food, Seafood', 1),\n",
       " ('Chinese, North Indian, Cafe', 1),\n",
       " ('North Indian, Chinese, Mexican, Beverages', 1),\n",
       " ('Cafe, Italian, Mexican, Bakery', 1),\n",
       " ('Continental, Burger, American', 1),\n",
       " ('Japanese, Tibetan, Vietnamese, Korean', 1),\n",
       " ('Biryani, Lucknowi, North Indian', 1),\n",
       " ('Juices, Beverages, Healthy Food', 1),\n",
       " ('Healthy Food, North Indian, Continental', 1),\n",
       " ('Beverages, Salad, Beverages', 1),\n",
       " ('Mediterranean, Mughlai, Thai, North Indian, Chinese', 1),\n",
       " ('Italian, Lebanese, Fast Food, Bakery', 1),\n",
       " ('Mexican, American, Healthy Food', 1),\n",
       " ('North Indian, Italian, Mexican', 1),\n",
       " ('Cafe, Italian, Bakery', 1),\n",
       " ('Cafe, Italian, European, Bakery', 1),\n",
       " ('Continental, North Indian, European, Finger Food', 1),\n",
       " ('North Indian, Street Food, Beverages', 1),\n",
       " ('American, European, North Indian', 1),\n",
       " ('Greek, Mediterranean', 1),\n",
       " ('Italian, Mexican, Cafe', 1),\n",
       " ('North Indian, Mithai, Chinese, Street Food', 1),\n",
       " ('Cafe, Continental, Italian, Pizza', 1),\n",
       " ('Healthy Food, European, Continental, Salad', 1),\n",
       " ('Asian, Chinese, North Indian', 1),\n",
       " ('Awadhi, North Indian, Mughlai', 1),\n",
       " ('Continental, Italian, Thai, Finger Food', 1),\n",
       " ('Japanese, Chinese, Thai, Malaysian, Burmese, Asian', 1),\n",
       " ('American, Cafe', 1),\n",
       " ('Cafe, Charcoal Grill, Steak', 1),\n",
       " ('Mediterranean, Asian, Continental, North Indian, Arabian', 1),\n",
       " ('Italian, Mexican, Chinese', 1),\n",
       " ('Fast Food, Mexican, Tex-Mex', 1),\n",
       " ('Pizza, Italian, Fast Food', 1),\n",
       " ('Cafe, Chinese, North Indian', 1),\n",
       " ('Finger Food, North Indian, Italian, Continental, Thai, South Indian', 1),\n",
       " ('Asian, Mediterranean, North Indian', 1),\n",
       " ('North Indian, Chinese, Italian, Street Food, Desserts', 1),\n",
       " ('Seafood, Mediterranean', 1),\n",
       " ('American, Continental, Burger', 1),\n",
       " ('Chinese, North Indian, Italian, Continental', 1),\n",
       " ('Mughlai, Hyderabadi', 1),\n",
       " ('Continental, Finger Food, Chinese, North Indian', 1),\n",
       " ('Korean, Japanese, Chinese, Asian', 1),\n",
       " ('Finger Food, American, Continental, North Indian, Italian', 1),\n",
       " ('Italian, Continental, Chinese, North Indian', 1),\n",
       " ('South Indian, North Indian, Chinese, Continental', 1),\n",
       " ('Arabian, Lebanese', 1),\n",
       " ('Continental, Italian, Mexican', 1),\n",
       " ('Fast Food, Chinese, Bengali', 1),\n",
       " ('Asian, Bakery', 1),\n",
       " ('North Indian, American, Italian', 1),\n",
       " ('Pizza, Mexican, Chinese, Italian', 1),\n",
       " ('Kashmiri, Mughlai', 1),\n",
       " ('American, Burger, Cafe', 1),\n",
       " ('Continental, American, Italian, North Indian, Chinese, Cafe', 1),\n",
       " ('Italian, American, Pizza', 1),\n",
       " ('North Indian, Hyderabadi', 1),\n",
       " ('Cafe, Mughlai, North Indian', 1),\n",
       " ('Continental, Chinese, Biryani, North Indian', 1),\n",
       " ('Italian, Fast Food, North Indian, Chinese', 1),\n",
       " ('Fast Food, American, Salad, Healthy Food', 1),\n",
       " ('Cafe, American, Continental, Armenian, Fast Food', 1),\n",
       " ('North Indian, Italian, Asian, South Indian', 1),\n",
       " ('Continental, Italian, Chinese', 1),\n",
       " ('North Indian, Continental, Beverages, Italian, Burger, Healthy Food, Mediterranean',\n",
       "  1),\n",
       " ('Cafe, Beverages, Desserts, Pizza', 1),\n",
       " ('Lebanese, North Indian', 1),\n",
       " ('Cafe, North Indian', 1),\n",
       " ('North Indian, Mughlai, South Indian, Rajasthani, Street Food', 1),\n",
       " ('Cafe, American, Desserts, Italian, Bakery', 1),\n",
       " ('Finger Food, Continental, North Indian, Italian, Chinese', 1),\n",
       " ('Continental, Asian, North Indian, Italian', 1),\n",
       " ('Chinese, North Indian, South Indian, Street Food', 1),\n",
       " ('American, Seafood, Italian, Japanese, Thai', 1),\n",
       " ('Mughlai, Pakistani, North Indian', 1),\n",
       " ('North Indian, Chinese, Continental, Italian, Mexican', 1),\n",
       " ('North Indian, Chinese, Continental, Desserts, Fast Food, Sandwich', 1),\n",
       " ('Fast Food, Street Food, South Indian', 1),\n",
       " ('North Indian, South Indian, Asian, Continental', 1),\n",
       " ('North Indian, Cafe, Italian, Mexican, Continental', 1),\n",
       " ('Cafe, Continental, Desserts', 1),\n",
       " ('Pizza, Italian, Beverages, Desserts', 1),\n",
       " ('Ice Cream, Desserts, Continental', 1),\n",
       " ('Chinese, Italian, North Indian, Mexican, Mediterranean, Thai', 1),\n",
       " ('Cafe, Italian, Mexican, North Indian, Continental', 1),\n",
       " ('Continental, Finger Food', 1),\n",
       " ('Continental, Chinese, North Indian, Mughlai', 1),\n",
       " ('Street Food, Mithai, South Indian, North Indian, Chinese', 1),\n",
       " ('Italian, Pizza, Cafe', 1),\n",
       " ('North Indian, Chinese, Street Food, Fast Food', 1),\n",
       " ('Bakery, Mithai, Fast Food', 1),\n",
       " ('North Indian, Mughlai, South Indian, Chinese', 1),\n",
       " ('Raw Meats, North Indian, Chinese', 1),\n",
       " ('Biryani, Pizza, Fast Food, Healthy Food', 1),\n",
       " ('Bakery, Chinese, North Indian', 1),\n",
       " ('Street Food, Mithai, North Indian, South Indian, Chinese', 1),\n",
       " ('Mithai, South Indian, Chinese, Street Food, North Indian', 1),\n",
       " ('Mexican, Lebanese, Italian, Continental, Thai', 1),\n",
       " ('North Indian, Chinese, Fast Food, Desserts', 1),\n",
       " ('North Eastern, Continental, South Indian, Fast Food', 1),\n",
       " ('Healthy Food, North Indian, Beverages', 1),\n",
       " ('Bakery, Beverages', 1),\n",
       " ('Korean, Chinese', 1),\n",
       " ('South Indian, Desserts', 1),\n",
       " ('Rajasthani, Gujarati, Mughlai', 1),\n",
       " ('African, Portuguese', 1),\n",
       " ('Arabian, Middle Eastern', 1),\n",
       " ('Bakery, Arabian, Middle Eastern', 1),\n",
       " ('Pakistani, Indian, Mughlai', 1),\n",
       " ('Indian, Mughlai, South Indian, Biryani', 1),\n",
       " ('Indian, North Indian, South Indian, Chinese', 1),\n",
       " ('Goan, Chinese, Indian, North Indian', 1),\n",
       " ('Indian, Asian', 1),\n",
       " ('Indian, North Indian, Street Food', 1),\n",
       " ('Indian, Continental', 1),\n",
       " ('Continental, Indian', 1),\n",
       " ('International, Indian', 1),\n",
       " ('Continental, North Indian, Chinese, European, Asian', 1),\n",
       " ('Mexican, Italian, North Indian, Chinese', 1),\n",
       " ('Mithai, North Indian, South Indian, Fast Food, Street Food, Chinese', 1),\n",
       " ('Continental, Italian, North Indian, American', 1),\n",
       " ('North Indian, Mughlai, Asian, Continental', 1),\n",
       " ('North Indian, American, Asian, Biryani', 1),\n",
       " ('Italian, Mexican', 1),\n",
       " ('Afghani, North Indian', 1),\n",
       " ('Healthy Food, Salad, Italian, Continental', 1),\n",
       " ('Asian, Continental, Fast Food', 1),\n",
       " ('North Indian, Biryani, Chinese', 1),\n",
       " ('North Indian, Asian, Italian', 1),\n",
       " ('Healthy Food, Cafe, Desserts, Italian, Bakery', 1),\n",
       " ('North Indian, Italian, Parsi, Asian, Kerala', 1),\n",
       " ('Continental, Italian, North Indian, Mughlai', 1),\n",
       " ('Continental, North Indian, Italian, Chinese', 1),\n",
       " ('Bihari, Lucknowi, North Indian', 1),\n",
       " ('Asian, Seafood', 1),\n",
       " ('Chinese, Continental, North Indian, Mexican', 1),\n",
       " ('North Indian, Italian, Chinese, American', 1),\n",
       " ('Portuguese, African, Lebanese', 1),\n",
       " ('Continental, Burger, Pizza, North Indian, European, Finger Food', 1),\n",
       " ('Pakistani, Chinese, Indian, Afghani', 1),\n",
       " ('Mediterranean, Italian, Thai, European', 1),\n",
       " ('Lebanese, Arabian, Middle Eastern', 1),\n",
       " ('Pakistani, Afghani, Indian, Hyderabadi', 1),\n",
       " ('American, Mexican, Seafood', 1),\n",
       " ('Filipino, Japanese, Asian', 1),\n",
       " ('Indian, North Indian, Mughlai, Biryani', 1),\n",
       " ('Thai, Japanese, Chinese, Indonesian, Vietnamese', 1),\n",
       " ('Turkish, Arabian, Middle Eastern', 1),\n",
       " ('Burger, Greek, Sandwich', 1),\n",
       " ('Sandwich, Sushi, Tapas', 1),\n",
       " ('Healthy Food, Continental, North Indian, Salad', 1),\n",
       " ('Cafe, Fast Food, Chinese', 1),\n",
       " ('North Indian, South Indian, Chinese, Healthy Food, Bakery', 1),\n",
       " ('Chinese, North Indian, South Indian, Healthy Food', 1),\n",
       " ('Mithai, North Indian, South Indian, Chinese', 1),\n",
       " ('North Indian, Mithai, Chinese', 1),\n",
       " ('North Indian, Mediterranean, European, Asian, Chinese, Pizza', 1),\n",
       " ('Healthy Food, Fast Food, Salad', 1),\n",
       " ('Bakery, Desserts, Bakery', 1),\n",
       " ('Italian, Burger, Charcoal Grill', 1),\n",
       " ('Chinese, North Indian, Continental, Mexican', 1),\n",
       " ('Cafe, Pizza, Burger', 1),\n",
       " ('Healthy Food, Continental, Juices, Beverages, Italian, Salad, Lebanese', 1),\n",
       " ('Goan, American, Portuguese', 1),\n",
       " ('South Indian, Desserts, Beverages', 1),\n",
       " ('Healthy Food, North Indian, Italian, Salad', 1),\n",
       " ('Bengali, Fast Food', 1),\n",
       " ('North Indian, Rajasthani, Asian', 1),\n",
       " ('Chinese, Thai, Malaysian, Indonesian', 1),\n",
       " ('Bakery, Desserts, North Indian, Bengali, South Indian', 1),\n",
       " ('Healthy Food, North Indian', 1),\n",
       " ('Indian, Rajasthani', 1),\n",
       " ('Coffee and Tea, Desserts, Beverages', 1),\n",
       " ('Italian, Pizza, Vegetarian', 1),\n",
       " ('Coffee and Tea, Tapas, Australian', 1),\n",
       " ('Coffee and Tea, Mediterranean', 1),\n",
       " ('Greek, Italian', 1),\n",
       " ('Fast Food, Seafood', 1),\n",
       " ('Burger, Bar Food, Vegetarian', 1),\n",
       " ('Seafood, Southern', 1),\n",
       " ('Australian', 1),\n",
       " ('Modern Australian, Australian', 1),\n",
       " ('Cuban, Spanish', 1),\n",
       " ('Seafood, Steak', 1),\n",
       " ('Mexican, Vegetarian', 1),\n",
       " ('Mithai, Street Food, South Indian, Chinese, North Indian', 1),\n",
       " ('Chinese, Assamese', 1),\n",
       " ('Mithai, Bakery, Street Food', 1),\n",
       " ('Cafe, Fast Food, Italian, Mexican', 1),\n",
       " ('North Indian, Chinese, Continental, Mediterranean, Asian', 1),\n",
       " ('Hyderabadi, Awadhi', 1),\n",
       " ('Desserts, Cafe, Mexican', 1),\n",
       " ('Cafe, Continental, North Indian, Chinese', 1),\n",
       " ('North Indian, Andhra, Chettinad, Bengali, Mughlai, Chinese', 1),\n",
       " ('Italian, Continental, Chinese', 1),\n",
       " ('Continental, Asian', 1),\n",
       " ('North Indian, Japanese, Italian', 1),\n",
       " ('Seafood, Continental, Goan, Asian, Andhra', 1),\n",
       " ('Continental, North Indian, Chinese, Arabian, Thai', 1),\n",
       " ('Continental, Fast Food, Chinese, Charcoal Grill, Mexican', 1),\n",
       " ('Asian, Chinese, Tibetan', 1),\n",
       " ('Continental, Juices, Cafe, Desserts, Salad, Italian', 1),\n",
       " ('Cafe, American, Italian, Continental', 1),\n",
       " ('Chinese, Thai, Japanese, Asian', 1),\n",
       " ('Cafe, Mexican, Italian, Continental', 1),\n",
       " ('Cafe, Mexican, Italian, North Indian, Fast Food', 1),\n",
       " ('Italian, Bakery, Continental', 1),\n",
       " ('North Indian, Chinese, Continental, Rajasthani', 1),\n",
       " ('Continental, Mexican, Beverages, Desserts, North Indian, Chinese, Rajasthani',\n",
       "  1),\n",
       " ('Cafe, Italian, Japanese, Continental', 1),\n",
       " ('Modern Indian, Asian', 1),\n",
       " ('Continental, Italian, North Indian, Lebanese, Thai', 1),\n",
       " ('Italian, Continental, Mexican, Cafe, Bakery', 1),\n",
       " ('Italian, Chinese, Mexican, Thai, North Indian', 1),\n",
       " ('North Indian, European, Continental, Finger Food', 1),\n",
       " ('Cafe, Continental, Italian, Street Food', 1),\n",
       " ('Bakery, Cafe, Fast Food', 1),\n",
       " ('Cafe, Italian, Mexican, Chinese', 1),\n",
       " ('Cafe, Lebanese, Italian', 1),\n",
       " ('Greek, Lebanese', 1),\n",
       " ('Chinese, Seafood, North Indian, Biryani', 1),\n",
       " ('Kerala, South Indian, Continental, North Indian, Seafood, Chinese', 1),\n",
       " ('Kerala, Fast Food', 1),\n",
       " ('Chinese, Thai, North Indian, South Indian', 1),\n",
       " ('Fast Food, Biryani', 1),\n",
       " ('European, North Indian, Mediterranean, American', 1),\n",
       " ('North Indian, Kerala, Chinese, Continental', 1),\n",
       " ('North Indian, Mughlai, Lebanese, Arabian, Mediterranean', 1),\n",
       " ('Chinese, North Indian, Continental', 1),\n",
       " ('North Indian, Mexican, Italian', 1),\n",
       " ('Cafe, Continental, Desserts, Ice Cream, Italian, Beverages', 1),\n",
       " ('Indian, Chinese, Continental', 1),\n",
       " ('Finger Food, North Indian, Continental, Italian, Mediterranean', 1),\n",
       " ('Continental, Mexican, North Indian, Chinese', 1),\n",
       " ('North Indian, Continental, Chinese, Mexican, Italian, Desserts', 1),\n",
       " ('North Indian, Continental, Chinese, Italian, Mexican', 1),\n",
       " ('Desserts, Bar Food', 1),\n",
       " ('Breakfast, Mexican', 1),\n",
       " ('European, German', 1),\n",
       " ('Sandwich, Seafood, Steak', 1),\n",
       " ('Italian, Deli', 1),\n",
       " ('Breakfast, Spanish, Tapas', 1),\n",
       " ('American, Desserts, Steak', 1),\n",
       " ('British, Bar Food, Sandwich', 1),\n",
       " ('BBQ, Caribbean, Seafood', 1),\n",
       " ('Asian, Thai, Vegetarian', 1),\n",
       " ('Caribbean, Mexican, Cajun', 1),\n",
       " ('American, Desserts, Diner', 1),\n",
       " ('Asian, Vegetarian, Vietnamese', 1),\n",
       " ('Continental, Cafe, Desserts, Bakery', 1),\n",
       " ('Italian, Seafood, Mediterranean, Desserts, Cafe', 1),\n",
       " ('Kerala, South Indian, Chinese, Biryani', 1),\n",
       " ('North Indian, Continental, South Indian, Chinese, Thai, Asian', 1),\n",
       " ('Cafe, Chinese, Thai, North Indian, Continental', 1),\n",
       " ('Italian, American, Lebanese', 1),\n",
       " ('Mediterranean, Italian, American', 1),\n",
       " ('Cafe, Italian, Desserts', 1),\n",
       " ('Mughlai, Lucknowi', 1),\n",
       " ('Cafe, Chinese, Continental', 1),\n",
       " ('Continental, Seafood, North Indian, Asian', 1),\n",
       " ('Biryani, North Indian, Chinese, Mughlai', 1),\n",
       " ('Seafood, Chinese', 1),\n",
       " ('Tex-Mex, American', 1),\n",
       " ('North Indian, Chinese, Mexican, Italian', 1),\n",
       " ('Chinese, Cafe, North Indian, Desserts', 1),\n",
       " ('Continental, Middle Eastern, Asian', 1),\n",
       " ('Italian, Mexican, American, Mediterranean', 1),\n",
       " ('International, Italian, Southern', 1),\n",
       " ('Street Food, Burger, Desserts, Italian, Pizza, North Indian, European, Finger Food',\n",
       "  1),\n",
       " ('Italian, Continental, Mexican, Japanese, American, British', 1),\n",
       " ('American, Burger, Fast Food', 1),\n",
       " ('Cafe, Continental, North Indian, Italian, Chinese, Bakery, Desserts, Finger Food',\n",
       "  1),\n",
       " ('Healthy Food, American, Burger, Salad', 1),\n",
       " ('North Indian, Italian, Finger Food', 1),\n",
       " ('North Indian, Mughlai, Chinese, Mangalorean', 1),\n",
       " ('Chinese, Continental, North Indian, Mughlai', 1),\n",
       " ('Finger Food, Continental, North Indian', 1),\n",
       " ('Chinese, Mangalorean', 1),\n",
       " ('European, Chinese', 1),\n",
       " ('Continental, Chinese, Italian, Bakery', 1),\n",
       " ('Cafe, Continental, Italian, Bakery', 1),\n",
       " ('Mediterranean, Chinese, Continental', 1),\n",
       " ('Italian, Continental, Mexican, Lebanese', 1),\n",
       " ('Italian, Continental, North Indian, Cafe', 1),\n",
       " ('Asian, Continental, Seafood', 1),\n",
       " ('Singaporean, Chinese, Seafood, Malay, Indian', 1),\n",
       " ('American, Japanese, Singaporean', 1),\n",
       " ('Italian, French, Bakery, Cafe', 1),\n",
       " ('French, Mediterranean, European', 1),\n",
       " ('Chinese, Continental, Singaporean', 1),\n",
       " ('American, Seafood, Southern', 1),\n",
       " ('Cafe, Sandwich, Southern', 1),\n",
       " ('Continental, North Indian, Thai, Chinese', 1),\n",
       " ('Cafe, Chinese, Fast Food, Italian', 1),\n",
       " ('Continental, Fast Food, Tea', 1),\n",
       " ('Continental, South Indian', 1),\n",
       " ('Cafe, Continental, European, Beverages', 1),\n",
       " ('Italian, North Indian, South Indian', 1),\n",
       " ('North Indian, Andhra, Mughlai', 1),\n",
       " ('Andhra', 1),\n",
       " ('Chinese, Japanese, Thai, Malaysian, Vietnamese, Asian', 1),\n",
       " ('Chinese, North Indian, Mughlai, Pizza', 1),\n",
       " ('Street Food, Fast Food, Beverages', 1),\n",
       " ('Chinese, North Indian, Italian, Mughlai', 1),\n",
       " ('Continental, North Indian, Fast Food, Street Food, South Indian', 1),\n",
       " ('Continental, Seafood, Goan, Andhra, Kerala, Thai', 1),\n",
       " ('North Indian, Seafood, Continental', 1),\n",
       " ('Cuisine Varies', 1),\n",
       " ('Malwani, North Indian, Chinese, Seafood', 1),\n",
       " ('North Indian, European, Mediterranean, Asian', 1),\n",
       " ('Seafood, Chinese, Thai', 1),\n",
       " ('Cafe, Spanish, Turkish, Greek', 1),\n",
       " ('American, Bakery, European, Burger, Fusion', 1),\n",
       " ('Western, Fusion, Fast Food', 1),\n",
       " ('Singaporean, Australian, German', 1),\n",
       " ('Chinese, Seafood, Cantonese, Dim Sum', 1),\n",
       " ('Asian, European, Seafood', 1),\n",
       " ('American, Asian, Burger', 1),\n",
       " ('Hawaiian, Seafood', 1),\n",
       " ('Asian, Breakfast, Hawaiian', 1),\n",
       " ('Japanese, Seafood, Sushi', 1),\n",
       " ('American, Hawaiian', 1),\n",
       " ('Continental, North Indian, Mughlai, Italian', 1),\n",
       " ('Malaysian, Indonesian', 1),\n",
       " ('Continental, Asian, North Indian', 1),\n",
       " ('Bakery, Desserts, Fast Food, Mithai', 1),\n",
       " ('Desserts, Bakery, Pizza, Burger, Continental', 1),\n",
       " ('Bakery, Desserts, Fast Food, Pizza, Burger, Continental', 1),\n",
       " ('Fast Food, North Indian, Chinese, Desserts', 1),\n",
       " ('Chinese, Fast Food, North Indian, South Indian', 1),\n",
       " ('Seafood, South Indian, Andhra, Hyderabadi, Goan', 1),\n",
       " ('North Indian, Street Food, Mughlai', 1),\n",
       " ('Bakery, Italian, Fast Food, Chinese, Continental', 1),\n",
       " ('Chinese, Thai, North Indian', 1),\n",
       " ('Japanese, Chinese, Malaysian, Thai, Vietnamese', 1),\n",
       " ('North Indian, Street Food, Chinese, South Indian, Mithai', 1),\n",
       " ('Fast Food, Italian, Chinese', 1),\n",
       " ('Pizza, Fast Food, Chinese', 1),\n",
       " ('North Indian, South Indian, Chinese, Mithai, Fast Food', 1),\n",
       " ('Pizza, Seafood, Steak', 1),\n",
       " ('Coffee and Tea, Desserts', 1),\n",
       " ('Breakfast, Diner, Sandwich', 1),\n",
       " ('Breakfast, Cajun', 1),\n",
       " ('Breakfast, Vegetarian', 1),\n",
       " ('American, Bar Food, Sandwich', 1),\n",
       " ('International, Mediterranean, Sandwich', 1),\n",
       " ('Desserts, Sandwich, Ice Cream', 1),\n",
       " ('American, Breakfast, Hawaiian', 1),\n",
       " ('Continental, American, Fast Food', 1),\n",
       " ('North Indian, Kashmiri', 1),\n",
       " ('North Indian, Chinese, Biryani', 1),\n",
       " ('Mughlai, North Indian, Bengali, Continental', 1),\n",
       " ('North Indian, Mughlai, Fast Food, South Indian', 1),\n",
       " ('Mughlai, Street Food', 1),\n",
       " ('Ice Cream, Mithai, North Indian, Street Food', 1),\n",
       " ...]"
      ]
     },
     "execution_count": 37,
     "metadata": {},
     "output_type": "execute_result"
    }
   ],
   "source": [
    "list(data['Cuisines'].value_counts().to_dict().items())"
   ]
  },
  {
   "cell_type": "markdown",
   "metadata": {},
   "source": [
    "Determine if certain cuisine combinations\n",
    "tend to have higher ratings."
   ]
  },
  {
   "cell_type": "code",
   "execution_count": 38,
   "metadata": {},
   "outputs": [
    {
     "data": {
      "text/plain": [
       "Cuisines\n",
       "Burger, Bar Food, Steak                 4.9\n",
       "American, Burger, Grill                 4.9\n",
       "American, Caribbean, Seafood            4.9\n",
       "American, Coffee and Tea                4.9\n",
       "Mexican, American, Healthy Food         4.9\n",
       "                                       ... \n",
       "Tibetan, South Indian, North Indian     0.0\n",
       "Afghani, Mughlai, Chinese               0.0\n",
       "Tibetan                                 0.0\n",
       "Turkish, Arabian, Moroccan, Lebanese    0.0\n",
       "Tibetan, Chinese, North Indian          0.0\n",
       "Name: Aggregate rating, Length: 1825, dtype: float64"
      ]
     },
     "execution_count": 38,
     "metadata": {},
     "output_type": "execute_result"
    }
   ],
   "source": [
    "data.groupby('Cuisines')['Aggregate rating'].mean().sort_values(ascending=False)"
   ]
  },
  {
   "cell_type": "markdown",
   "metadata": {},
   "source": [
    "Task 3\n",
    "Task: Geographic Analysis"
   ]
  },
  {
   "cell_type": "markdown",
   "metadata": {},
   "source": [
    "Plot the locations of restaurants on a\n",
    "map using longitude and latitude\n",
    "coordinates."
   ]
  },
  {
   "cell_type": "code",
   "execution_count": 39,
   "metadata": {},
   "outputs": [
    {
     "data": {
      "image/png": "[encoded data removed]",
      "text/plain": [
       "<Figure size 800x600 with 1 Axes>"
      ]
     },
     "metadata": {},
     "output_type": "display_data"
    }
   ],
   "source": [
    "plt.figure(figsize=(8,6))\n",
    "plt.scatter(data['Longitude'], data['Latitude'], color = \"red\", marker='o')\n",
    "\n",
    "for lon, lat, name in zip(data['Longitude'], data['Latitude'], data['Restaurant Name']):\n",
    "    plt.text(lon, lat, name, fontsize=9)\n",
    "\n",
    "plt.xlabel(\"Longitude\")\n",
    "plt.ylabel(\"Latitude\")\n",
    "plt.title(\"Locations of Restaurants\")\n",
    "plt.grid()\n",
    "plt.show()"
   ]
  },
  {
   "cell_type": "markdown",
   "metadata": {},
   "source": [
    "Identify any patterns or clusters of\n",
    "restaurants in specific areas."
   ]
  },
  {
   "cell_type": "markdown",
   "metadata": {},
   "source": [
    "\n",
    "Choose the number of clusters (K):\n",
    "\n",
    "You decide how many clusters (K) you want to divide your data into.\n",
    "Initialize K cluster centroids randomly:\n",
    "\n",
    "The algorithm randomly picks K points as initial cluster centers (centroids).\n",
    "Assign each data point to the nearest centroid:\n",
    "\n",
    "For each point in the dataset, compute the Euclidean distance from each centroid.\n",
    "Assign the point to the nearest centroid's cluster.\n",
    "Recalculate centroids:\n",
    "\n",
    "For each cluster, compute the mean of all points assigned to it.\n",
    "Update the centroid to this new mean position.\n",
    "Repeat Steps 3 & 4 until centroids do not change (or stop after set iterations):\n",
    "\n",
    "This continues until centroids remain stable or a predefined max iterations is reached.\n",
    "Final cluster assignments:\n",
    "\n",
    "Once convergence is achieved, each data point is now part of a specific cluster."
   ]
  },
  {
   "cell_type": "code",
   "execution_count": 40,
   "metadata": {},
   "outputs": [],
   "source": [
    "from sklearn.cluster import KMeans\n",
    "import numpy as np"
   ]
  },
  {
   "cell_type": "code",
   "execution_count": 41,
   "metadata": {},
   "outputs": [
    {
     "data": {
      "text/plain": [
       "array([[ 14.565443  , 121.027535  ],\n",
       "       [ 14.553708  , 121.014101  ],\n",
       "       [ 14.581404  , 121.056831  ],\n",
       "       ...,\n",
       "       [ 41.05581715,  29.03464001],\n",
       "       [ 41.057979  ,  29.036019  ],\n",
       "       [ 40.98477563,  29.02601603]])"
      ]
     },
     "execution_count": 41,
     "metadata": {},
     "output_type": "execute_result"
    }
   ],
   "source": [
    "coords = np.array(data[['Latitude', 'Longitude']])\n",
    "coords"
   ]
  },
  {
   "cell_type": "markdown",
   "metadata": {},
   "source": [
    "n_clusters=5\t     Number of clusters\t           More clusters → More refined grouping\n",
    "random_state=42\t     Fixes randomness\t           Ensures the same result every run\n",
    "n_init=10\t         Runs K-Means multiple times   Picks the best clustering result"
   ]
  },
  {
   "cell_type": "code",
   "execution_count": 42,
   "metadata": {},
   "outputs": [
    {
     "data": {
      "text/plain": [
       "0       0\n",
       "1       0\n",
       "2       0\n",
       "3       0\n",
       "4       0\n",
       "       ..\n",
       "9546    4\n",
       "9547    4\n",
       "9548    4\n",
       "9549    4\n",
       "9550    4\n",
       "Name: Cluster, Length: 9542, dtype: int32"
      ]
     },
     "execution_count": 42,
     "metadata": {},
     "output_type": "execute_result"
    }
   ],
   "source": [
    "kmeans = KMeans(n_clusters=5, random_state=42, n_init=10)   # Apply K-Means clustering (let's assume 5 clusters)   #n_clusters=5 Number of Clusters\n",
    "data['Cluster'] = kmeans.fit_predict(coords)                # random_state=42  Ensures Consistency, Without random_state, results will change each time the code runs.\n",
    "data['Cluster']                                             #n_init=10  Runs K-Means Multiple Times"
   ]
  },
  {
   "cell_type": "code",
   "execution_count": 43,
   "metadata": {},
   "outputs": [
    {
     "data": {
      "image/png": "[encoded data removed]",
      "text/plain": [
       "<Figure size 1000x600 with 2 Axes>"
      ]
     },
     "metadata": {},
     "output_type": "display_data"
    }
   ],
   "source": [
    "plt.figure(figsize=(10, 6))\n",
    "plt.scatter(data['Longitude'], data['Latitude'], c=data['Cluster'], cmap='jet', alpha=0.6)\n",
    "plt.xlabel(\"Longitude\")\n",
    "plt.ylabel(\"Latitude\")\n",
    "plt.title(\"Restaurant Clusters\")\n",
    "plt.colorbar(label=\"Cluster\")\n",
    "plt.show()"
   ]
  },
  {
   "cell_type": "code",
   "execution_count": 44,
   "metadata": {},
   "outputs": [
    {
     "name": "stdout",
     "output_type": "stream",
     "text": [
      "['magma', 'inferno', 'plasma', 'viridis', 'cividis', 'twilight', 'twilight_shifted', 'turbo', 'berlin', 'managua', 'vanimo', 'Blues', 'BrBG', 'BuGn', 'BuPu', 'CMRmap', 'GnBu', 'Greens', 'Greys', 'OrRd', 'Oranges', 'PRGn', 'PiYG', 'PuBu', 'PuBuGn', 'PuOr', 'PuRd', 'Purples', 'RdBu', 'RdGy', 'RdPu', 'RdYlBu', 'RdYlGn', 'Reds', 'Spectral', 'Wistia', 'YlGn', 'YlGnBu', 'YlOrBr', 'YlOrRd', 'afmhot', 'autumn', 'binary', 'bone', 'brg', 'bwr', 'cool', 'coolwarm', 'copper', 'cubehelix', 'flag', 'gist_earth', 'gist_gray', 'gist_heat', 'gist_ncar', 'gist_rainbow', 'gist_stern', 'gist_yarg', 'gnuplot', 'gnuplot2', 'gray', 'hot', 'hsv', 'jet', 'nipy_spectral', 'ocean', 'pink', 'prism', 'rainbow', 'seismic', 'spring', 'summer', 'terrain', 'winter', 'Accent', 'Dark2', 'Paired', 'Pastel1', 'Pastel2', 'Set1', 'Set2', 'Set3', 'tab10', 'tab20', 'tab20b', 'tab20c', 'grey', 'gist_grey', 'gist_yerg', 'Grays', 'magma_r', 'inferno_r', 'plasma_r', 'viridis_r', 'cividis_r', 'twilight_r', 'twilight_shifted_r', 'turbo_r', 'berlin_r', 'managua_r', 'vanimo_r', 'Blues_r', 'BrBG_r', 'BuGn_r', 'BuPu_r', 'CMRmap_r', 'GnBu_r', 'Greens_r', 'Greys_r', 'OrRd_r', 'Oranges_r', 'PRGn_r', 'PiYG_r', 'PuBu_r', 'PuBuGn_r', 'PuOr_r', 'PuRd_r', 'Purples_r', 'RdBu_r', 'RdGy_r', 'RdPu_r', 'RdYlBu_r', 'RdYlGn_r', 'Reds_r', 'Spectral_r', 'Wistia_r', 'YlGn_r', 'YlGnBu_r', 'YlOrBr_r', 'YlOrRd_r', 'afmhot_r', 'autumn_r', 'binary_r', 'bone_r', 'brg_r', 'bwr_r', 'cool_r', 'coolwarm_r', 'copper_r', 'cubehelix_r', 'flag_r', 'gist_earth_r', 'gist_gray_r', 'gist_heat_r', 'gist_ncar_r', 'gist_rainbow_r', 'gist_stern_r', 'gist_yarg_r', 'gnuplot_r', 'gnuplot2_r', 'gray_r', 'hot_r', 'hsv_r', 'jet_r', 'nipy_spectral_r', 'ocean_r', 'pink_r', 'prism_r', 'rainbow_r', 'seismic_r', 'spring_r', 'summer_r', 'terrain_r', 'winter_r', 'Accent_r', 'Dark2_r', 'Paired_r', 'Pastel1_r', 'Pastel2_r', 'Set1_r', 'Set2_r', 'Set3_r', 'tab10_r', 'tab20_r', 'tab20b_r', 'tab20c_r', 'grey_r', 'gist_grey_r', 'gist_yerg_r', 'Grays_r', 'rocket', 'rocket_r', 'mako', 'mako_r', 'icefire', 'icefire_r', 'vlag', 'vlag_r', 'flare', 'flare_r', 'crest', 'crest_r']\n"
     ]
    }
   ],
   "source": [
    "print(plt.colormaps())  "
   ]
  },
  {
   "cell_type": "markdown",
   "metadata": {},
   "source": [
    "Task 4\n",
    "Task: Restaurant Chains"
   ]
  },
  {
   "cell_type": "markdown",
   "metadata": {},
   "source": [
    "Identify if there are any restaurant chains\n",
    "present in the dataset."
   ]
  },
  {
   "cell_type": "code",
   "execution_count": 45,
   "metadata": {},
   "outputs": [
    {
     "data": {
      "text/plain": [
       "Restaurant Name\n",
       "Cafe Coffee Day      83\n",
       "Domino's Pizza       79\n",
       "Subway               63\n",
       "Green Chick Chop     51\n",
       "McDonald's           48\n",
       "                     ..\n",
       "�ukura��a Sofras۱     1\n",
       "Gaga Manjero          1\n",
       "Cafemiz               1\n",
       "Nusr-Et               1\n",
       "Maori                 1\n",
       "Name: count, Length: 7437, dtype: int64"
      ]
     },
     "execution_count": 45,
     "metadata": {},
     "output_type": "execute_result"
    }
   ],
   "source": [
    "rest_count = data['Restaurant Name'].value_counts()\n",
    "rest_count"
   ]
  },
  {
   "cell_type": "code",
   "execution_count": 47,
   "metadata": {},
   "outputs": [
    {
     "data": {
      "text/plain": [
       "Restaurant Name\n",
       "Cafe Coffee Day     83\n",
       "Domino's Pizza      79\n",
       "Subway              63\n",
       "Green Chick Chop    51\n",
       "McDonald's          48\n",
       "                    ..\n",
       "Mithaas Sweets       2\n",
       "Brown Town           2\n",
       "Bikaner's            2\n",
       "Adarsh Kulfi         2\n",
       "Tea Trails           2\n",
       "Name: count, Length: 734, dtype: int64"
      ]
     },
     "execution_count": 47,
     "metadata": {},
     "output_type": "execute_result"
    }
   ],
   "source": [
    "rest_count_chain = rest_count[rest_count > 1]\n",
    "rest_count_chain"
   ]
  },
  {
   "cell_type": "markdown",
   "metadata": {},
   "source": [
    "Analyze the ratings and popularity of\n",
    "different restaurant chains."
   ]
  },
  {
   "cell_type": "code",
   "execution_count": 48,
   "metadata": {},
   "outputs": [
    {
     "data": {
      "text/plain": [
       "Index(['Cafe Coffee Day', 'Domino's Pizza', 'Subway', 'Green Chick Chop',\n",
       "       'McDonald's', 'Keventers', 'Pizza Hut', 'Giani', 'Baskin Robbins',\n",
       "       'Barbeque Nation',\n",
       "       ...\n",
       "       'Kake Da Dhaba', 'Coco Bambu', 'Kesarwa Bakez', 'Bake Walkers',\n",
       "       'Mithaas', 'Mithaas Sweets', 'Brown Town', 'Bikaner's', 'Adarsh Kulfi',\n",
       "       'Tea Trails'],\n",
       "      dtype='object', name='Restaurant Name', length=734)"
      ]
     },
     "execution_count": 48,
     "metadata": {},
     "output_type": "execute_result"
    }
   ],
   "source": [
    "chains = rest_count_chain.index\n",
    "chains"
   ]
  },
  {
   "cell_type": "code",
   "execution_count": 49,
   "metadata": {},
   "outputs": [
    {
     "data": {
      "text/html": [
       "<div>\n",
       "<style scoped>\n",
       "    .dataframe tbody tr th:only-of-type {\n",
       "        vertical-align: middle;\n",
       "    }\n",
       "\n",
       "    .dataframe tbody tr th {\n",
       "        vertical-align: top;\n",
       "    }\n",
       "\n",
       "    .dataframe thead th {\n",
       "        text-align: right;\n",
       "    }\n",
       "</style>\n",
       "<table border=\"1\" class=\"dataframe\">\n",
       "  <thead>\n",
       "    <tr style=\"text-align: right;\">\n",
       "      <th></th>\n",
       "      <th>Restaurant ID</th>\n",
       "      <th>Restaurant Name</th>\n",
       "      <th>Country Code</th>\n",
       "      <th>City</th>\n",
       "      <th>Address</th>\n",
       "      <th>Locality</th>\n",
       "      <th>Locality Verbose</th>\n",
       "      <th>Longitude</th>\n",
       "      <th>Latitude</th>\n",
       "      <th>Cuisines</th>\n",
       "      <th>...</th>\n",
       "      <th>Has Table booking</th>\n",
       "      <th>Has Online delivery</th>\n",
       "      <th>Is delivering now</th>\n",
       "      <th>Switch to order menu</th>\n",
       "      <th>Price range</th>\n",
       "      <th>Aggregate rating</th>\n",
       "      <th>Rating color</th>\n",
       "      <th>Rating text</th>\n",
       "      <th>Votes</th>\n",
       "      <th>Cluster</th>\n",
       "    </tr>\n",
       "  </thead>\n",
       "  <tbody>\n",
       "    <tr>\n",
       "      <th>5</th>\n",
       "      <td>18189371</td>\n",
       "      <td>Din Tai Fung</td>\n",
       "      <td>162</td>\n",
       "      <td>Mandaluyong City</td>\n",
       "      <td>Ground Floor, Mega Fashion Hall, SM Megamall, ...</td>\n",
       "      <td>SM Megamall, Ortigas, Mandaluyong City</td>\n",
       "      <td>SM Megamall, Ortigas, Mandaluyong City, Mandal...</td>\n",
       "      <td>121.056314</td>\n",
       "      <td>14.583764</td>\n",
       "      <td>Chinese</td>\n",
       "      <td>...</td>\n",
       "      <td>No</td>\n",
       "      <td>No</td>\n",
       "      <td>No</td>\n",
       "      <td>No</td>\n",
       "      <td>3</td>\n",
       "      <td>4.4</td>\n",
       "      <td>Green</td>\n",
       "      <td>Very Good</td>\n",
       "      <td>336</td>\n",
       "      <td>0</td>\n",
       "    </tr>\n",
       "    <tr>\n",
       "      <th>10</th>\n",
       "      <td>6309903</td>\n",
       "      <td>Silantro Fil-Mex</td>\n",
       "      <td>162</td>\n",
       "      <td>Pasig City</td>\n",
       "      <td>75 East Capitol Drive, Kapitolyo, Pasig City</td>\n",
       "      <td>Kapitolyo</td>\n",
       "      <td>Kapitolyo, Pasig City</td>\n",
       "      <td>121.057916</td>\n",
       "      <td>14.567689</td>\n",
       "      <td>Filipino, Mexican</td>\n",
       "      <td>...</td>\n",
       "      <td>No</td>\n",
       "      <td>No</td>\n",
       "      <td>No</td>\n",
       "      <td>No</td>\n",
       "      <td>3</td>\n",
       "      <td>4.9</td>\n",
       "      <td>Dark Green</td>\n",
       "      <td>Excellent</td>\n",
       "      <td>1070</td>\n",
       "      <td>0</td>\n",
       "    </tr>\n",
       "    <tr>\n",
       "      <th>12</th>\n",
       "      <td>6318433</td>\n",
       "      <td>Silantro Fil-Mex</td>\n",
       "      <td>162</td>\n",
       "      <td>Quezon City</td>\n",
       "      <td>Second Floor, UP Town Center, Katipunan Avenue...</td>\n",
       "      <td>UP Town Center, Diliman, Quezon City</td>\n",
       "      <td>UP Town Center, Diliman, Quezon City, Quezon City</td>\n",
       "      <td>121.075419</td>\n",
       "      <td>14.649503</td>\n",
       "      <td>Filipino, Mexican</td>\n",
       "      <td>...</td>\n",
       "      <td>No</td>\n",
       "      <td>No</td>\n",
       "      <td>No</td>\n",
       "      <td>No</td>\n",
       "      <td>3</td>\n",
       "      <td>4.8</td>\n",
       "      <td>Dark Green</td>\n",
       "      <td>Excellent</td>\n",
       "      <td>294</td>\n",
       "      <td>0</td>\n",
       "    </tr>\n",
       "  </tbody>\n",
       "</table>\n",
       "<p>3 rows × 22 columns</p>\n",
       "</div>"
      ],
      "text/plain": [
       "    Restaurant ID   Restaurant Name  Country Code              City  \\\n",
       "5        18189371      Din Tai Fung           162  Mandaluyong City   \n",
       "10        6309903  Silantro Fil-Mex           162        Pasig City   \n",
       "12        6318433  Silantro Fil-Mex           162       Quezon City   \n",
       "\n",
       "                                              Address  \\\n",
       "5   Ground Floor, Mega Fashion Hall, SM Megamall, ...   \n",
       "10       75 East Capitol Drive, Kapitolyo, Pasig City   \n",
       "12  Second Floor, UP Town Center, Katipunan Avenue...   \n",
       "\n",
       "                                  Locality  \\\n",
       "5   SM Megamall, Ortigas, Mandaluyong City   \n",
       "10                               Kapitolyo   \n",
       "12    UP Town Center, Diliman, Quezon City   \n",
       "\n",
       "                                     Locality Verbose   Longitude   Latitude  \\\n",
       "5   SM Megamall, Ortigas, Mandaluyong City, Mandal...  121.056314  14.583764   \n",
       "10                              Kapitolyo, Pasig City  121.057916  14.567689   \n",
       "12  UP Town Center, Diliman, Quezon City, Quezon City  121.075419  14.649503   \n",
       "\n",
       "             Cuisines  ...  Has Table booking Has Online delivery  \\\n",
       "5             Chinese  ...                 No                  No   \n",
       "10  Filipino, Mexican  ...                 No                  No   \n",
       "12  Filipino, Mexican  ...                 No                  No   \n",
       "\n",
       "   Is delivering now Switch to order menu Price range Aggregate rating  \\\n",
       "5                 No                   No           3              4.4   \n",
       "10                No                   No           3              4.9   \n",
       "12                No                   No           3              4.8   \n",
       "\n",
       "    Rating color  Rating text Votes Cluster  \n",
       "5          Green    Very Good   336       0  \n",
       "10    Dark Green    Excellent  1070       0  \n",
       "12    Dark Green    Excellent   294       0  \n",
       "\n",
       "[3 rows x 22 columns]"
      ]
     },
     "execution_count": 49,
     "metadata": {},
     "output_type": "execute_result"
    }
   ],
   "source": [
    "chain_data = data[data['Restaurant Name'].isin(chains)].head(3)\n",
    "chain_data"
   ]
  },
  {
   "cell_type": "code",
   "execution_count": 50,
   "metadata": {},
   "outputs": [
    {
     "data": {
      "text/html": [
       "<div>\n",
       "<style scoped>\n",
       "    .dataframe tbody tr th:only-of-type {\n",
       "        vertical-align: middle;\n",
       "    }\n",
       "\n",
       "    .dataframe tbody tr th {\n",
       "        vertical-align: top;\n",
       "    }\n",
       "\n",
       "    .dataframe thead th {\n",
       "        text-align: right;\n",
       "    }\n",
       "</style>\n",
       "<table border=\"1\" class=\"dataframe\">\n",
       "  <thead>\n",
       "    <tr style=\"text-align: right;\">\n",
       "      <th></th>\n",
       "      <th>Restaurant Name</th>\n",
       "      <th>Aggregate rating</th>\n",
       "    </tr>\n",
       "  </thead>\n",
       "  <tbody>\n",
       "    <tr>\n",
       "      <th>0</th>\n",
       "      <td>Din Tai Fung</td>\n",
       "      <td>4.40</td>\n",
       "    </tr>\n",
       "    <tr>\n",
       "      <th>1</th>\n",
       "      <td>Silantro Fil-Mex</td>\n",
       "      <td>4.85</td>\n",
       "    </tr>\n",
       "  </tbody>\n",
       "</table>\n",
       "</div>"
      ],
      "text/plain": [
       "    Restaurant Name  Aggregate rating\n",
       "0      Din Tai Fung              4.40\n",
       "1  Silantro Fil-Mex              4.85"
      ]
     },
     "execution_count": 50,
     "metadata": {},
     "output_type": "execute_result"
    }
   ],
   "source": [
    "rest_chain_rating = chain_data.groupby('Restaurant Name')['Aggregate rating'].mean().reset_index()\n",
    "rest_chain_rating"
   ]
  },
  {
   "cell_type": "code",
   "execution_count": 51,
   "metadata": {},
   "outputs": [
    {
     "data": {
      "image/png": "[encoded data removed]",
      "text/plain": [
       "<Figure size 1000x500 with 1 Axes>"
      ]
     },
     "metadata": {},
     "output_type": "display_data"
    }
   ],
   "source": [
    "plt.figure(figsize=(10, 5))\n",
    "sns.barplot(x='Restaurant Name',y='Aggregate rating', hue='Aggregate rating', data=rest_chain_rating, palette='viridis')\n",
    "plt.title(\"Average Ratings of Restaurant Chains\")\n",
    "plt.xlabel(\"Restaurant Chains\")\n",
    "plt.ylabel(\"Average Rating\")\n",
    "plt.show()"
   ]
  },
  {
   "cell_type": "markdown",
   "metadata": {},
   "source": [
    "Level 3"
   ]
  },
  {
   "cell_type": "markdown",
   "metadata": {},
   "source": [
    "Task 1\n",
    "Task: Restaurant Reviews"
   ]
  },
  {
   "cell_type": "markdown",
   "metadata": {},
   "source": [
    "Analyze the text reviews to identify the most\n",
    "common positive and negative keywords."
   ]
  },
  {
   "cell_type": "code",
   "execution_count": 52,
   "metadata": {},
   "outputs": [
    {
     "data": {
      "text/plain": [
       "[('Average', 3734),\n",
       " ('Not rated', 2148),\n",
       " ('Good', 2096),\n",
       " ('Very Good', 1078),\n",
       " ('Excellent', 300),\n",
       " ('Poor', 186)]"
      ]
     },
     "execution_count": 52,
     "metadata": {},
     "output_type": "execute_result"
    }
   ],
   "source": [
    "rating_count_txt =list(data['Rating text'].value_counts().items())\n",
    "rating_count_txt"
   ]
  },
  {
   "cell_type": "code",
   "execution_count": 53,
   "metadata": {},
   "outputs": [
    {
     "name": "stdout",
     "output_type": "stream",
     "text": [
      "The most common positive word is \"Average\" and count 3734\n",
      "The most common negative word is \"Poor\" and count 186\n"
     ]
    }
   ],
   "source": [
    "print(f\"The most common positive word is \\\"{rating_count_txt[0][0]}\\\" and count {rating_count_txt[0][1]}\")\n",
    "print(f\"The most common negative word is \\\"{rating_count_txt[-1][0]}\\\" and count {rating_count_txt[-1][1]}\")"
   ]
  },
  {
   "cell_type": "markdown",
   "metadata": {},
   "source": [
    "Calculate the average length of reviews and\n",
    "explore if there is a relationship between\n",
    "review length and rating."
   ]
  },
  {
   "cell_type": "markdown",
   "metadata": {},
   "source": [
    "Task 2\n",
    "Task: Votes Analysis"
   ]
  },
  {
   "cell_type": "markdown",
   "metadata": {},
   "source": [
    "Identify the restaurants with the highest and\n",
    "lowest number of votes."
   ]
  },
  {
   "cell_type": "code",
   "execution_count": 54,
   "metadata": {},
   "outputs": [
    {
     "data": {
      "text/html": [
       "<div>\n",
       "<style scoped>\n",
       "    .dataframe tbody tr th:only-of-type {\n",
       "        vertical-align: middle;\n",
       "    }\n",
       "\n",
       "    .dataframe tbody tr th {\n",
       "        vertical-align: top;\n",
       "    }\n",
       "\n",
       "    .dataframe thead th {\n",
       "        text-align: right;\n",
       "    }\n",
       "</style>\n",
       "<table border=\"1\" class=\"dataframe\">\n",
       "  <thead>\n",
       "    <tr style=\"text-align: right;\">\n",
       "      <th></th>\n",
       "      <th>Restaurant Name</th>\n",
       "      <th>Votes</th>\n",
       "    </tr>\n",
       "  </thead>\n",
       "  <tbody>\n",
       "    <tr>\n",
       "      <th>0</th>\n",
       "      <td>#45</td>\n",
       "      <td>209</td>\n",
       "    </tr>\n",
       "    <tr>\n",
       "      <th>1</th>\n",
       "      <td>#Dilliwaala6</td>\n",
       "      <td>124</td>\n",
       "    </tr>\n",
       "    <tr>\n",
       "      <th>2</th>\n",
       "      <td>#InstaFreeze</td>\n",
       "      <td>2</td>\n",
       "    </tr>\n",
       "    <tr>\n",
       "      <th>3</th>\n",
       "      <td>#OFF Campus</td>\n",
       "      <td>216</td>\n",
       "    </tr>\n",
       "    <tr>\n",
       "      <th>4</th>\n",
       "      <td>#Urban Caf��</td>\n",
       "      <td>49</td>\n",
       "    </tr>\n",
       "    <tr>\n",
       "      <th>...</th>\n",
       "      <td>...</td>\n",
       "      <td>...</td>\n",
       "    </tr>\n",
       "    <tr>\n",
       "      <th>7432</th>\n",
       "      <td>t Lounge by Dilmah</td>\n",
       "      <td>34</td>\n",
       "    </tr>\n",
       "    <tr>\n",
       "      <th>7433</th>\n",
       "      <td>tashas</td>\n",
       "      <td>374</td>\n",
       "    </tr>\n",
       "    <tr>\n",
       "      <th>7434</th>\n",
       "      <td>wagamama</td>\n",
       "      <td>131</td>\n",
       "    </tr>\n",
       "    <tr>\n",
       "      <th>7435</th>\n",
       "      <td>{Niche} - Cafe &amp; Bar</td>\n",
       "      <td>492</td>\n",
       "    </tr>\n",
       "    <tr>\n",
       "      <th>7436</th>\n",
       "      <td>�ukura��a Sofras۱</td>\n",
       "      <td>296</td>\n",
       "    </tr>\n",
       "  </tbody>\n",
       "</table>\n",
       "<p>7437 rows × 2 columns</p>\n",
       "</div>"
      ],
      "text/plain": [
       "           Restaurant Name  Votes\n",
       "0                      #45    209\n",
       "1             #Dilliwaala6    124\n",
       "2             #InstaFreeze      2\n",
       "3              #OFF Campus    216\n",
       "4             #Urban Caf��     49\n",
       "...                    ...    ...\n",
       "7432    t Lounge by Dilmah     34\n",
       "7433                tashas    374\n",
       "7434              wagamama    131\n",
       "7435  {Niche} - Cafe & Bar    492\n",
       "7436     �ukura��a Sofras۱    296\n",
       "\n",
       "[7437 rows x 2 columns]"
      ]
     },
     "execution_count": 54,
     "metadata": {},
     "output_type": "execute_result"
    }
   ],
   "source": [
    "votes_ident = data.groupby('Restaurant Name')['Votes'].max().reset_index()\n",
    "votes_ident"
   ]
  },
  {
   "cell_type": "code",
   "execution_count": 55,
   "metadata": {},
   "outputs": [],
   "source": [
    "highest_voted = votes_ident.sort_values(by='Votes', ascending=False).head(1)   #(highest_voted.to_string(index=False, header=False))[5:]\n",
    "lowest_voted = votes_ident.sort_values(by='Votes', ascending=True).head(1)"
   ]
  },
  {
   "cell_type": "code",
   "execution_count": 56,
   "metadata": {},
   "outputs": [
    {
     "name": "stdout",
     "output_type": "stream",
     "text": [
      "The restaurants \"Toit\" with the highest 10934 number of votes.\n",
      "The restaurants \"Grills\" with the lowest 0 number of votes.\n"
     ]
    }
   ],
   "source": [
    "print(f\"The restaurants \\\"{(highest_voted.to_string(index=False, header=False))[0:4]}\\\" with the highest {(highest_voted.to_string(index=False, header=False))[5:]} number of votes.\")\n",
    "print(f\"The restaurants \\\"{(lowest_voted.to_string(index=False, header=False))[3:9]}\\\" with the lowest {(lowest_voted.to_string(index=False, header=False))[-1]} number of votes.\")"
   ]
  },
  {
   "cell_type": "markdown",
   "metadata": {},
   "source": [
    "Analyze if there is a correlation between the\n",
    "number of votes and the rating of a\n",
    "restaurant."
   ]
  },
  {
   "cell_type": "code",
   "execution_count": 57,
   "metadata": {},
   "outputs": [
    {
     "name": "stdout",
     "output_type": "stream",
     "text": [
      "                     Votes  Aggregate rating\n",
      "Votes             1.000000          0.313474\n",
      "Aggregate rating  0.313474          1.000000\n"
     ]
    }
   ],
   "source": [
    "correlation = data[['Votes', 'Aggregate rating']].corr(method='pearson')\n",
    "print(correlation)"
   ]
  },
  {
   "cell_type": "code",
   "execution_count": 86,
   "metadata": {},
   "outputs": [
    {
     "data": {
      "text/plain": [
       "<Axes: >"
      ]
     },
     "execution_count": 86,
     "metadata": {},
     "output_type": "execute_result"
    },
    {
     "data": {
      "image/png": "[encoded data removed]",
      "text/plain": [
       "<Figure size 640x480 with 2 Axes>"
      ]
     },
     "metadata": {},
     "output_type": "display_data"
    }
   ],
   "source": [
    "sns.heatmap(correlation, annot=True, cmap='coolwarm', fmt='.2f')"
   ]
  },
  {
   "cell_type": "markdown",
   "metadata": {},
   "source": [
    "Task 3\n",
    "Task: Price Range vs. Online Delivery and\n",
    "Table Booking"
   ]
  },
  {
   "cell_type": "markdown",
   "metadata": {},
   "source": [
    "Analyze if there is a relationship between the\n",
    "price range and the availability of online\n",
    "delivery and table booking."
   ]
  },
  {
   "cell_type": "code",
   "execution_count": 114,
   "metadata": {},
   "outputs": [
    {
     "data": {
      "text/html": [
       "<div>\n",
       "<style scoped>\n",
       "    .dataframe tbody tr th:only-of-type {\n",
       "        vertical-align: middle;\n",
       "    }\n",
       "\n",
       "    .dataframe tbody tr th {\n",
       "        vertical-align: top;\n",
       "    }\n",
       "\n",
       "    .dataframe thead th {\n",
       "        text-align: right;\n",
       "    }\n",
       "</style>\n",
       "<table border=\"1\" class=\"dataframe\">\n",
       "  <thead>\n",
       "    <tr style=\"text-align: right;\">\n",
       "      <th></th>\n",
       "      <th>Price range</th>\n",
       "      <th>Has Online delivery</th>\n",
       "      <th>Has Table booking</th>\n",
       "    </tr>\n",
       "  </thead>\n",
       "  <tbody>\n",
       "    <tr>\n",
       "      <th>0</th>\n",
       "      <td>1</td>\n",
       "      <td>15.795403</td>\n",
       "      <td>0.022533</td>\n",
       "    </tr>\n",
       "    <tr>\n",
       "      <th>1</th>\n",
       "      <td>2</td>\n",
       "      <td>41.310633</td>\n",
       "      <td>7.677482</td>\n",
       "    </tr>\n",
       "    <tr>\n",
       "      <th>2</th>\n",
       "      <td>3</td>\n",
       "      <td>29.252669</td>\n",
       "      <td>45.836299</td>\n",
       "    </tr>\n",
       "    <tr>\n",
       "      <th>3</th>\n",
       "      <td>4</td>\n",
       "      <td>9.044369</td>\n",
       "      <td>46.757679</td>\n",
       "    </tr>\n",
       "  </tbody>\n",
       "</table>\n",
       "</div>"
      ],
      "text/plain": [
       "   Price range  Has Online delivery  Has Table booking\n",
       "0            1            15.795403           0.022533\n",
       "1            2            41.310633           7.677482\n",
       "2            3            29.252669          45.836299\n",
       "3            4             9.044369          46.757679"
      ]
     },
     "execution_count": 114,
     "metadata": {},
     "output_type": "execute_result"
    }
   ],
   "source": [
    "delivery_booking = data.groupby('Price range')[['Has Online delivery', 'Has Table booking']].apply(lambda x:(x == 'Yes').mean() * 100).reset_index()\n",
    "delivery_booking"
   ]
  },
  {
   "cell_type": "code",
   "execution_count": 115,
   "metadata": {},
   "outputs": [],
   "source": [
    "# delivery_booking = data.groupby('Price range').agg({'Has Online delivery': lambda x :(x == 'Yes').mean() * 100 ,'Has Table booking': lambda x:(x == 'Yes').mean() * 100}).reset_index()\n",
    "# delivery_booking"
   ]
  },
  {
   "cell_type": "code",
   "execution_count": 116,
   "metadata": {},
   "outputs": [
    {
     "data": {
      "text/plain": [
       "<Axes: xlabel='None', ylabel='Has Online delivery'>"
      ]
     },
     "execution_count": 116,
     "metadata": {},
     "output_type": "execute_result"
    },
    {
     "data": {
      "image/png": "[encoded data removed]",
      "text/plain": [
       "<Figure size 800x500 with 1 Axes>"
      ]
     },
     "metadata": {},
     "output_type": "display_data"
    }
   ],
   "source": [
    "plt.figure(figsize=(8, 5))                                                                       \n",
    "sns.barplot(x=delivery_booking.index, y=delivery_booking['Has Online delivery'], color='blue', label='Online Delivery')      # Plot Online Delivery availability\n",
    "sns.barplot(x=delivery_booking.index, y=delivery_booking['Has Table booking'], color='red', alpha=0.6, label='Table Booking') # Plot Table Booking availability"
   ]
  },
  {
   "cell_type": "markdown",
   "metadata": {},
   "source": [
    "Determine if higher-priced restaurants are\n",
    "more likely to offer these services."
   ]
  },
  {
   "cell_type": "code",
   "execution_count": null,
   "metadata": {},
   "outputs": [
    {
     "data": {
      "text/html": [
       "<div>\n",
       "<style scoped>\n",
       "    .dataframe tbody tr th:only-of-type {\n",
       "        vertical-align: middle;\n",
       "    }\n",
       "\n",
       "    .dataframe tbody tr th {\n",
       "        vertical-align: top;\n",
       "    }\n",
       "\n",
       "    .dataframe thead th {\n",
       "        text-align: right;\n",
       "    }\n",
       "</style>\n",
       "<table border=\"1\" class=\"dataframe\">\n",
       "  <thead>\n",
       "    <tr style=\"text-align: right;\">\n",
       "      <th></th>\n",
       "      <th>Price range</th>\n",
       "      <th>Has Online delivery</th>\n",
       "      <th>Has Table booking</th>\n",
       "    </tr>\n",
       "  </thead>\n",
       "  <tbody>\n",
       "    <tr>\n",
       "      <th>0</th>\n",
       "      <td>1</td>\n",
       "      <td>15.795403</td>\n",
       "      <td>0.022533</td>\n",
       "    </tr>\n",
       "    <tr>\n",
       "      <th>1</th>\n",
       "      <td>2</td>\n",
       "      <td>41.310633</td>\n",
       "      <td>7.677482</td>\n",
       "    </tr>\n",
       "    <tr>\n",
       "      <th>2</th>\n",
       "      <td>3</td>\n",
       "      <td>29.252669</td>\n",
       "      <td>45.836299</td>\n",
       "    </tr>\n",
       "    <tr>\n",
       "      <th>3</th>\n",
       "      <td>4</td>\n",
       "      <td>9.044369</td>\n",
       "      <td>46.757679</td>\n",
       "    </tr>\n",
       "  </tbody>\n",
       "</table>\n",
       "</div>"
      ],
      "text/plain": [
       "   Price range  Has Online delivery  Has Table booking\n",
       "0            1            15.795403           0.022533\n",
       "1            2            41.310633           7.677482\n",
       "2            3            29.252669          45.836299\n",
       "3            4             9.044369          46.757679"
      ]
     },
     "execution_count": 118,
     "metadata": {},
     "output_type": "execute_result"
    }
   ],
   "source": [
    "# services = data.groupby('Price range')[['Has Online delivery', 'Has Table booking']].apply(lambda x:(x == 'Yes').mean() * 100).reset_index()\n",
    "# services"
   ]
  },
  {
   "cell_type": "code",
   "execution_count": null,
   "metadata": {},
   "outputs": [
    {
     "data": {
      "text/plain": [
       "<Axes: xlabel='Price range', ylabel='Has Online delivery'>"
      ]
     },
     "execution_count": 123,
     "metadata": {},
     "output_type": "execute_result"
    },
    {
     "data": {
      "image/png": "[encoded data removed]",
      "text/plain": [
       "<Figure size 800x500 with 1 Axes>"
      ]
     },
     "metadata": {},
     "output_type": "display_data"
    }
   ],
   "source": [
    "# plt.figure(figsize=(8, 5))                                                                       \n",
    "# sns.barplot(data=services, x='Price range', y='Has Online delivery', color='blue', label='Online Delivery')      \n",
    "# sns.barplot(data=services,x='Price range', y='Has Table booking', color='red', alpha=0.6, label='Table Booking') "
   ]
  }
 ],
 "metadata": {
  "kernelspec": {
   "display_name": "Python 3",
   "language": "python",
   "name": "python3"
  },
  "language_info": {
   "codemirror_mode": {
    "name": "ipython",
    "version": 3
   },
   "file_extension": ".py",
   "mimetype": "text/x-python",
   "name": "python",
   "nbconvert_exporter": "python",
   "pygments_lexer": "ipython3",
   "version": "3.13.0"
  }
 },
 "nbformat": 4,
 "nbformat_minor": 2
}
